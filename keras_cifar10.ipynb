{
  "nbformat": 4,
  "nbformat_minor": 0,
  "metadata": {
    "colab": {
      "name": "keras_cifar10.ipynb",
      "version": "0.3.2",
      "provenance": [],
      "collapsed_sections": [],
      "include_colab_link": true
    },
    "kernelspec": {
      "name": "python3",
      "display_name": "Python 3"
    },
    "accelerator": "GPU"
  },
  "cells": [
    {
      "cell_type": "markdown",
      "metadata": {
        "id": "view-in-github",
        "colab_type": "text"
      },
      "source": [
        "<a href=\"https://colab.research.google.com/github/hpan270/MSA/blob/master/keras_cifar10.ipynb\" target=\"_parent\"><img src=\"https://colab.research.google.com/assets/colab-badge.svg\" alt=\"Open In Colab\"/></a>"
      ]
    },
    {
      "cell_type": "code",
      "metadata": {
        "id": "D9Gp2m6v9nWU",
        "colab_type": "code",
        "outputId": "94b17fcd-3ea1-4778-e5f2-965fd3df1677",
        "colab": {
          "base_uri": "https://localhost:8080/",
          "height": 34
        }
      },
      "source": [
        "import tensorflow as tf\n",
        "tf.test.gpu_device_name()"
      ],
      "execution_count": 54,
      "outputs": [
        {
          "output_type": "execute_result",
          "data": {
            "text/plain": [
              "'/device:GPU:0'"
            ]
          },
          "metadata": {
            "tags": []
          },
          "execution_count": 54
        }
      ]
    },
    {
      "cell_type": "code",
      "metadata": {
        "id": "8rNaBz3j9uII",
        "colab_type": "code",
        "outputId": "f0c2d852-e1d3-42c1-ff67-ee49bc7a5301",
        "colab": {
          "base_uri": "https://localhost:8080/",
          "height": 68
        }
      },
      "source": [
        "from __future__ import print_function\n",
        "import keras\n",
        "from keras.datasets import cifar10\n",
        "from keras.preprocessing.image import ImageDataGenerator\n",
        "from keras.models import Sequential\n",
        "from keras.layers import Dense, Dropout, Activation, Flatten\n",
        "from keras.layers import Conv2D, MaxPooling2D\n",
        "import os\n",
        "\n",
        "batch_size = 128\n",
        "num_classes = 10\n",
        "epochs = 100\n",
        "data_augmentation = False\n",
        "num_predictions = 20\n",
        "save_dir = os.path.join(os.getcwd(), 'saved_models')\n",
        "model_name = 'keras_cifar10_trained_model.h5'\n",
        "\n",
        "# The data, split between train and test sets:\n",
        "(x_train, y_train), (x_test, y_test) = cifar10.load_data()\n",
        "print('x_train shape:', x_train.shape)\n",
        "print(x_train.shape[0], 'train samples')\n",
        "print(x_test.shape[0], 'test samples')\n",
        "\n",
        "# Convert class vectors to binary class matrices.\n",
        "y_train = keras.utils.to_categorical(y_train, num_classes)\n",
        "y_test = keras.utils.to_categorical(y_test, num_classes)\n",
        "\n",
        "model = Sequential()\n",
        "model.add(Conv2D(32, (3, 3), padding='same',\n",
        "                 input_shape=x_train.shape[1:]))\n",
        "model.add(Activation('relu'))\n",
        "model.add(Conv2D(32, (3, 3)))\n",
        "model.add(Activation('relu'))\n",
        "model.add(MaxPooling2D(pool_size=(2, 2)))\n",
        "model.add(Dropout(0.25))\n",
        "\n",
        "model.add(Conv2D(64, (3, 3), padding='same'))\n",
        "model.add(Activation('relu'))\n",
        "model.add(Conv2D(64, (3, 3)))\n",
        "model.add(Activation('relu'))\n",
        "model.add(MaxPooling2D(pool_size=(2, 2)))\n",
        "model.add(Dropout(0.25))\n",
        "\n",
        "model.add(Flatten())\n",
        "model.add(Dense(512))\n",
        "model.add(Activation('relu'))\n",
        "model.add(Dropout(0.5))\n",
        "model.add(Dense(num_classes))\n",
        "model.add(Activation('softmax'))\n",
        "\n",
        "# initiate RMSprop optimizer\n",
        "opt = keras.optimizers.rmsprop(lr=0.0001, decay=1e-6)\n",
        "\n",
        "# Let's train the model using RMSprop\n",
        "model.compile(loss='categorical_crossentropy',\n",
        "              optimizer=opt,\n",
        "              metrics=['accuracy'])\n",
        "\n",
        "x_train = x_train.astype('float32')\n",
        "x_test = x_test.astype('float32')\n",
        "x_train /= 255\n",
        "x_test /= 255"
      ],
      "execution_count": 55,
      "outputs": [
        {
          "output_type": "stream",
          "text": [
            "x_train shape: (50000, 32, 32, 3)\n",
            "50000 train samples\n",
            "10000 test samples\n"
          ],
          "name": "stdout"
        }
      ]
    },
    {
      "cell_type": "code",
      "metadata": {
        "id": "7wioVWjP915O",
        "colab_type": "code",
        "outputId": "f6d61b57-146f-46a3-bfdd-cf4c9233c719",
        "colab": {
          "base_uri": "https://localhost:8080/",
          "height": 34
        }
      },
      "source": [
        "json_str=model.to_json()\n",
        "open(\"keras_cifar10_e100.json\",'w').write(json_str)"
      ],
      "execution_count": 56,
      "outputs": [
        {
          "output_type": "execute_result",
          "data": {
            "text/plain": [
              "4992"
            ]
          },
          "metadata": {
            "tags": []
          },
          "execution_count": 56
        }
      ]
    },
    {
      "cell_type": "code",
      "metadata": {
        "id": "Lis14aLB-B4E",
        "colab_type": "code",
        "colab": {}
      },
      "source": [
        "from keras import callbacks"
      ],
      "execution_count": 0,
      "outputs": []
    },
    {
      "cell_type": "code",
      "metadata": {
        "id": "3N2ugTN9-Dsm",
        "colab_type": "code",
        "colab": {}
      },
      "source": [
        "csvlogger=callbacks.CSVLogger('keras_cifar10_csvlogger_e100.csv',separator=',',append=False)\n",
        "chkpt=callbacks.ModelCheckpoint('keras_cifar10_chkpt_e100.hdf5',verbose=1, save_best_only=True)"
      ],
      "execution_count": 0,
      "outputs": []
    },
    {
      "cell_type": "code",
      "metadata": {
        "id": "ev9n4Tu2_l_t",
        "colab_type": "code",
        "outputId": "c7220903-b486-41d4-dcd0-82bdda667779",
        "colab": {
          "base_uri": "https://localhost:8080/",
          "height": 1000
        }
      },
      "source": [
        "print('Not using data augmentation.')\n",
        "model.fit(x_train, y_train,\n",
        "          batch_size=batch_size,\n",
        "          epochs=epochs,\n",
        "          validation_split=0.2,\n",
        "          callbacks=[csvlogger,chkpt],\n",
        "          shuffle=True)"
      ],
      "execution_count": 59,
      "outputs": [
        {
          "output_type": "stream",
          "text": [
            "Not using data augmentation.\n",
            "Train on 40000 samples, validate on 10000 samples\n",
            "Epoch 1/100\n",
            "40000/40000 [==============================] - 5s 130us/step - loss: 2.0273 - acc: 0.2483 - val_loss: 1.8214 - val_acc: 0.3467\n",
            "\n",
            "Epoch 00001: val_loss improved from inf to 1.82139, saving model to keras_cifar10_chkpt_e100.hdf5\n",
            "Epoch 2/100\n",
            "40000/40000 [==============================] - 5s 114us/step - loss: 1.7377 - acc: 0.3671 - val_loss: 1.6283 - val_acc: 0.4193\n",
            "\n",
            "Epoch 00002: val_loss improved from 1.82139 to 1.62826, saving model to keras_cifar10_chkpt_e100.hdf5\n",
            "Epoch 3/100\n",
            "40000/40000 [==============================] - 5s 115us/step - loss: 1.6265 - acc: 0.4033 - val_loss: 1.6349 - val_acc: 0.4133\n",
            "\n",
            "Epoch 00003: val_loss did not improve from 1.62826\n",
            "Epoch 4/100\n",
            "40000/40000 [==============================] - 5s 115us/step - loss: 1.5413 - acc: 0.4408 - val_loss: 1.4767 - val_acc: 0.4672\n",
            "\n",
            "Epoch 00004: val_loss improved from 1.62826 to 1.47668, saving model to keras_cifar10_chkpt_e100.hdf5\n",
            "Epoch 5/100\n",
            "40000/40000 [==============================] - 5s 115us/step - loss: 1.4765 - acc: 0.4623 - val_loss: 1.3985 - val_acc: 0.4992\n",
            "\n",
            "Epoch 00005: val_loss improved from 1.47668 to 1.39852, saving model to keras_cifar10_chkpt_e100.hdf5\n",
            "Epoch 6/100\n",
            "40000/40000 [==============================] - 5s 114us/step - loss: 1.4241 - acc: 0.4862 - val_loss: 1.3407 - val_acc: 0.5214\n",
            "\n",
            "Epoch 00006: val_loss improved from 1.39852 to 1.34069, saving model to keras_cifar10_chkpt_e100.hdf5\n",
            "Epoch 7/100\n",
            "40000/40000 [==============================] - 5s 115us/step - loss: 1.3760 - acc: 0.5048 - val_loss: 1.3305 - val_acc: 0.5243\n",
            "\n",
            "Epoch 00007: val_loss improved from 1.34069 to 1.33052, saving model to keras_cifar10_chkpt_e100.hdf5\n",
            "Epoch 8/100\n",
            "40000/40000 [==============================] - 5s 114us/step - loss: 1.3344 - acc: 0.5214 - val_loss: 1.2967 - val_acc: 0.5455\n",
            "\n",
            "Epoch 00008: val_loss improved from 1.33052 to 1.29674, saving model to keras_cifar10_chkpt_e100.hdf5\n",
            "Epoch 9/100\n",
            "40000/40000 [==============================] - 5s 115us/step - loss: 1.2994 - acc: 0.5350 - val_loss: 1.2380 - val_acc: 0.5611\n",
            "\n",
            "Epoch 00009: val_loss improved from 1.29674 to 1.23804, saving model to keras_cifar10_chkpt_e100.hdf5\n",
            "Epoch 10/100\n",
            "40000/40000 [==============================] - 5s 116us/step - loss: 1.2656 - acc: 0.5500 - val_loss: 1.1981 - val_acc: 0.5816\n",
            "\n",
            "Epoch 00010: val_loss improved from 1.23804 to 1.19806, saving model to keras_cifar10_chkpt_e100.hdf5\n",
            "Epoch 11/100\n",
            "40000/40000 [==============================] - 5s 115us/step - loss: 1.2320 - acc: 0.5643 - val_loss: 1.1984 - val_acc: 0.5830\n",
            "\n",
            "Epoch 00011: val_loss did not improve from 1.19806\n",
            "Epoch 12/100\n",
            "40000/40000 [==============================] - 5s 116us/step - loss: 1.2032 - acc: 0.5741 - val_loss: 1.1394 - val_acc: 0.6027\n",
            "\n",
            "Epoch 00012: val_loss improved from 1.19806 to 1.13937, saving model to keras_cifar10_chkpt_e100.hdf5\n",
            "Epoch 13/100\n",
            "40000/40000 [==============================] - 5s 116us/step - loss: 1.1753 - acc: 0.5851 - val_loss: 1.1212 - val_acc: 0.6121\n",
            "\n",
            "Epoch 00013: val_loss improved from 1.13937 to 1.12123, saving model to keras_cifar10_chkpt_e100.hdf5\n",
            "Epoch 14/100\n",
            "40000/40000 [==============================] - 5s 115us/step - loss: 1.1463 - acc: 0.5958 - val_loss: 1.1457 - val_acc: 0.6032\n",
            "\n",
            "Epoch 00014: val_loss did not improve from 1.12123\n",
            "Epoch 15/100\n",
            "40000/40000 [==============================] - 5s 117us/step - loss: 1.1270 - acc: 0.6015 - val_loss: 1.0655 - val_acc: 0.6305\n",
            "\n",
            "Epoch 00015: val_loss improved from 1.12123 to 1.06554, saving model to keras_cifar10_chkpt_e100.hdf5\n",
            "Epoch 16/100\n",
            "40000/40000 [==============================] - 5s 115us/step - loss: 1.1008 - acc: 0.6125 - val_loss: 1.0452 - val_acc: 0.6388\n",
            "\n",
            "Epoch 00016: val_loss improved from 1.06554 to 1.04522, saving model to keras_cifar10_chkpt_e100.hdf5\n",
            "Epoch 17/100\n",
            "40000/40000 [==============================] - 5s 115us/step - loss: 1.0755 - acc: 0.6207 - val_loss: 1.0269 - val_acc: 0.6448\n",
            "\n",
            "Epoch 00017: val_loss improved from 1.04522 to 1.02695, saving model to keras_cifar10_chkpt_e100.hdf5\n",
            "Epoch 18/100\n",
            "40000/40000 [==============================] - 5s 115us/step - loss: 1.0584 - acc: 0.6292 - val_loss: 1.0967 - val_acc: 0.6195\n",
            "\n",
            "Epoch 00018: val_loss did not improve from 1.02695\n",
            "Epoch 19/100\n",
            "40000/40000 [==============================] - 5s 115us/step - loss: 1.0351 - acc: 0.6346 - val_loss: 0.9950 - val_acc: 0.6571\n",
            "\n",
            "Epoch 00019: val_loss improved from 1.02695 to 0.99503, saving model to keras_cifar10_chkpt_e100.hdf5\n",
            "Epoch 20/100\n",
            "40000/40000 [==============================] - 5s 115us/step - loss: 1.0160 - acc: 0.6428 - val_loss: 1.0010 - val_acc: 0.6538\n",
            "\n",
            "Epoch 00020: val_loss did not improve from 0.99503\n",
            "Epoch 21/100\n",
            "40000/40000 [==============================] - 5s 116us/step - loss: 0.9987 - acc: 0.6514 - val_loss: 0.9585 - val_acc: 0.6719\n",
            "\n",
            "Epoch 00021: val_loss improved from 0.99503 to 0.95847, saving model to keras_cifar10_chkpt_e100.hdf5\n",
            "Epoch 22/100\n",
            "40000/40000 [==============================] - 5s 116us/step - loss: 0.9845 - acc: 0.6527 - val_loss: 0.9884 - val_acc: 0.6595\n",
            "\n",
            "Epoch 00022: val_loss did not improve from 0.95847\n",
            "Epoch 23/100\n",
            "40000/40000 [==============================] - 5s 115us/step - loss: 0.9656 - acc: 0.6612 - val_loss: 0.9686 - val_acc: 0.6651\n",
            "\n",
            "Epoch 00023: val_loss did not improve from 0.95847\n",
            "Epoch 24/100\n",
            "40000/40000 [==============================] - 5s 115us/step - loss: 0.9504 - acc: 0.6677 - val_loss: 0.9196 - val_acc: 0.6810\n",
            "\n",
            "Epoch 00024: val_loss improved from 0.95847 to 0.91960, saving model to keras_cifar10_chkpt_e100.hdf5\n",
            "Epoch 25/100\n",
            "40000/40000 [==============================] - 5s 115us/step - loss: 0.9306 - acc: 0.6750 - val_loss: 0.9120 - val_acc: 0.6848\n",
            "\n",
            "Epoch 00025: val_loss improved from 0.91960 to 0.91195, saving model to keras_cifar10_chkpt_e100.hdf5\n",
            "Epoch 26/100\n",
            "40000/40000 [==============================] - 5s 115us/step - loss: 0.9208 - acc: 0.6791 - val_loss: 0.8985 - val_acc: 0.6897\n",
            "\n",
            "Epoch 00026: val_loss improved from 0.91195 to 0.89853, saving model to keras_cifar10_chkpt_e100.hdf5\n",
            "Epoch 27/100\n",
            "40000/40000 [==============================] - 5s 115us/step - loss: 0.9038 - acc: 0.6843 - val_loss: 0.9092 - val_acc: 0.6885\n",
            "\n",
            "Epoch 00027: val_loss did not improve from 0.89853\n",
            "Epoch 28/100\n",
            "40000/40000 [==============================] - 5s 116us/step - loss: 0.8911 - acc: 0.6873 - val_loss: 0.8813 - val_acc: 0.6954\n",
            "\n",
            "Epoch 00028: val_loss improved from 0.89853 to 0.88128, saving model to keras_cifar10_chkpt_e100.hdf5\n",
            "Epoch 29/100\n",
            "40000/40000 [==============================] - 5s 115us/step - loss: 0.8826 - acc: 0.6931 - val_loss: 0.8917 - val_acc: 0.6958\n",
            "\n",
            "Epoch 00029: val_loss did not improve from 0.88128\n",
            "Epoch 30/100\n",
            "40000/40000 [==============================] - 5s 115us/step - loss: 0.8683 - acc: 0.6993 - val_loss: 0.8550 - val_acc: 0.7070\n",
            "\n",
            "Epoch 00030: val_loss improved from 0.88128 to 0.85499, saving model to keras_cifar10_chkpt_e100.hdf5\n",
            "Epoch 31/100\n",
            "40000/40000 [==============================] - 5s 115us/step - loss: 0.8484 - acc: 0.7043 - val_loss: 0.8447 - val_acc: 0.7076\n",
            "\n",
            "Epoch 00031: val_loss improved from 0.85499 to 0.84469, saving model to keras_cifar10_chkpt_e100.hdf5\n",
            "Epoch 32/100\n",
            "40000/40000 [==============================] - 5s 115us/step - loss: 0.8380 - acc: 0.7070 - val_loss: 0.8355 - val_acc: 0.7109\n",
            "\n",
            "Epoch 00032: val_loss improved from 0.84469 to 0.83550, saving model to keras_cifar10_chkpt_e100.hdf5\n",
            "Epoch 33/100\n",
            "40000/40000 [==============================] - 5s 114us/step - loss: 0.8251 - acc: 0.7110 - val_loss: 0.8628 - val_acc: 0.7031\n",
            "\n",
            "Epoch 00033: val_loss did not improve from 0.83550\n",
            "Epoch 34/100\n",
            "40000/40000 [==============================] - 5s 115us/step - loss: 0.8168 - acc: 0.7154 - val_loss: 0.8259 - val_acc: 0.7138\n",
            "\n",
            "Epoch 00034: val_loss improved from 0.83550 to 0.82586, saving model to keras_cifar10_chkpt_e100.hdf5\n",
            "Epoch 35/100\n",
            "40000/40000 [==============================] - 5s 115us/step - loss: 0.8080 - acc: 0.7173 - val_loss: 0.8013 - val_acc: 0.7266\n",
            "\n",
            "Epoch 00035: val_loss improved from 0.82586 to 0.80130, saving model to keras_cifar10_chkpt_e100.hdf5\n",
            "Epoch 36/100\n",
            "40000/40000 [==============================] - 5s 116us/step - loss: 0.7983 - acc: 0.7218 - val_loss: 0.8054 - val_acc: 0.7252\n",
            "\n",
            "Epoch 00036: val_loss did not improve from 0.80130\n",
            "Epoch 37/100\n",
            "40000/40000 [==============================] - 5s 117us/step - loss: 0.7816 - acc: 0.7276 - val_loss: 0.7964 - val_acc: 0.7266\n",
            "\n",
            "Epoch 00037: val_loss improved from 0.80130 to 0.79644, saving model to keras_cifar10_chkpt_e100.hdf5\n",
            "Epoch 38/100\n",
            "40000/40000 [==============================] - 5s 117us/step - loss: 0.7775 - acc: 0.7278 - val_loss: 0.7782 - val_acc: 0.7352\n",
            "\n",
            "Epoch 00038: val_loss improved from 0.79644 to 0.77819, saving model to keras_cifar10_chkpt_e100.hdf5\n",
            "Epoch 39/100\n",
            "40000/40000 [==============================] - 5s 116us/step - loss: 0.7647 - acc: 0.7329 - val_loss: 0.7817 - val_acc: 0.7323\n",
            "\n",
            "Epoch 00039: val_loss did not improve from 0.77819\n",
            "Epoch 40/100\n",
            "40000/40000 [==============================] - 5s 114us/step - loss: 0.7541 - acc: 0.7380 - val_loss: 0.7980 - val_acc: 0.7269\n",
            "\n",
            "Epoch 00040: val_loss did not improve from 0.77819\n",
            "Epoch 41/100\n",
            "40000/40000 [==============================] - 5s 114us/step - loss: 0.7438 - acc: 0.7417 - val_loss: 0.7649 - val_acc: 0.7369\n",
            "\n",
            "Epoch 00041: val_loss improved from 0.77819 to 0.76490, saving model to keras_cifar10_chkpt_e100.hdf5\n",
            "Epoch 42/100\n",
            "40000/40000 [==============================] - 5s 115us/step - loss: 0.7322 - acc: 0.7448 - val_loss: 0.7610 - val_acc: 0.7400\n",
            "\n",
            "Epoch 00042: val_loss improved from 0.76490 to 0.76098, saving model to keras_cifar10_chkpt_e100.hdf5\n",
            "Epoch 43/100\n",
            "40000/40000 [==============================] - 5s 114us/step - loss: 0.7272 - acc: 0.7455 - val_loss: 0.7666 - val_acc: 0.7373\n",
            "\n",
            "Epoch 00043: val_loss did not improve from 0.76098\n",
            "Epoch 44/100\n",
            "40000/40000 [==============================] - 5s 114us/step - loss: 0.7167 - acc: 0.7509 - val_loss: 0.7701 - val_acc: 0.7334\n",
            "\n",
            "Epoch 00044: val_loss did not improve from 0.76098\n",
            "Epoch 45/100\n",
            "40000/40000 [==============================] - 5s 115us/step - loss: 0.7073 - acc: 0.7530 - val_loss: 0.7383 - val_acc: 0.7476\n",
            "\n",
            "Epoch 00045: val_loss improved from 0.76098 to 0.73825, saving model to keras_cifar10_chkpt_e100.hdf5\n",
            "Epoch 46/100\n",
            "40000/40000 [==============================] - 5s 114us/step - loss: 0.6967 - acc: 0.7561 - val_loss: 0.7468 - val_acc: 0.7420\n",
            "\n",
            "Epoch 00046: val_loss did not improve from 0.73825\n",
            "Epoch 47/100\n",
            "40000/40000 [==============================] - 5s 114us/step - loss: 0.6868 - acc: 0.7594 - val_loss: 0.7642 - val_acc: 0.7376\n",
            "\n",
            "Epoch 00047: val_loss did not improve from 0.73825\n",
            "Epoch 48/100\n",
            "40000/40000 [==============================] - 5s 114us/step - loss: 0.6873 - acc: 0.7611 - val_loss: 0.7329 - val_acc: 0.7497\n",
            "\n",
            "Epoch 00048: val_loss improved from 0.73825 to 0.73295, saving model to keras_cifar10_chkpt_e100.hdf5\n",
            "Epoch 49/100\n",
            "40000/40000 [==============================] - 5s 114us/step - loss: 0.6758 - acc: 0.7648 - val_loss: 0.7420 - val_acc: 0.7465\n",
            "\n",
            "Epoch 00049: val_loss did not improve from 0.73295\n",
            "Epoch 50/100\n",
            "40000/40000 [==============================] - 5s 114us/step - loss: 0.6685 - acc: 0.7672 - val_loss: 0.7399 - val_acc: 0.7502\n",
            "\n",
            "Epoch 00050: val_loss did not improve from 0.73295\n",
            "Epoch 51/100\n",
            "40000/40000 [==============================] - 5s 114us/step - loss: 0.6614 - acc: 0.7715 - val_loss: 0.7256 - val_acc: 0.7520\n",
            "\n",
            "Epoch 00051: val_loss improved from 0.73295 to 0.72561, saving model to keras_cifar10_chkpt_e100.hdf5\n",
            "Epoch 52/100\n",
            "40000/40000 [==============================] - 5s 114us/step - loss: 0.6480 - acc: 0.7759 - val_loss: 0.7789 - val_acc: 0.7394\n",
            "\n",
            "Epoch 00052: val_loss did not improve from 0.72561\n",
            "Epoch 53/100\n",
            "40000/40000 [==============================] - 5s 113us/step - loss: 0.6481 - acc: 0.7754 - val_loss: 0.7394 - val_acc: 0.7460\n",
            "\n",
            "Epoch 00053: val_loss did not improve from 0.72561\n",
            "Epoch 54/100\n",
            "40000/40000 [==============================] - 5s 114us/step - loss: 0.6385 - acc: 0.7745 - val_loss: 0.7054 - val_acc: 0.7585\n",
            "\n",
            "Epoch 00054: val_loss improved from 0.72561 to 0.70544, saving model to keras_cifar10_chkpt_e100.hdf5\n",
            "Epoch 55/100\n",
            "40000/40000 [==============================] - 5s 114us/step - loss: 0.6276 - acc: 0.7820 - val_loss: 0.6927 - val_acc: 0.7639\n",
            "\n",
            "Epoch 00055: val_loss improved from 0.70544 to 0.69269, saving model to keras_cifar10_chkpt_e100.hdf5\n",
            "Epoch 56/100\n",
            "40000/40000 [==============================] - 5s 115us/step - loss: 0.6252 - acc: 0.7814 - val_loss: 0.7237 - val_acc: 0.7548\n",
            "\n",
            "Epoch 00056: val_loss did not improve from 0.69269\n",
            "Epoch 57/100\n",
            "40000/40000 [==============================] - 5s 115us/step - loss: 0.6159 - acc: 0.7860 - val_loss: 0.6899 - val_acc: 0.7638\n",
            "\n",
            "Epoch 00057: val_loss improved from 0.69269 to 0.68995, saving model to keras_cifar10_chkpt_e100.hdf5\n",
            "Epoch 58/100\n",
            "40000/40000 [==============================] - 5s 114us/step - loss: 0.6107 - acc: 0.7866 - val_loss: 0.6882 - val_acc: 0.7658\n",
            "\n",
            "Epoch 00058: val_loss improved from 0.68995 to 0.68818, saving model to keras_cifar10_chkpt_e100.hdf5\n",
            "Epoch 59/100\n",
            "40000/40000 [==============================] - 5s 115us/step - loss: 0.6073 - acc: 0.7901 - val_loss: 0.7126 - val_acc: 0.7584\n",
            "\n",
            "Epoch 00059: val_loss did not improve from 0.68818\n",
            "Epoch 60/100\n",
            "40000/40000 [==============================] - 5s 115us/step - loss: 0.5998 - acc: 0.7916 - val_loss: 0.7060 - val_acc: 0.7600\n",
            "\n",
            "Epoch 00060: val_loss did not improve from 0.68818\n",
            "Epoch 61/100\n",
            "40000/40000 [==============================] - 5s 115us/step - loss: 0.5941 - acc: 0.7954 - val_loss: 0.7143 - val_acc: 0.7567\n",
            "\n",
            "Epoch 00061: val_loss did not improve from 0.68818\n",
            "Epoch 62/100\n",
            "40000/40000 [==============================] - 5s 118us/step - loss: 0.5871 - acc: 0.7963 - val_loss: 0.7031 - val_acc: 0.7646\n",
            "\n",
            "Epoch 00062: val_loss did not improve from 0.68818\n",
            "Epoch 63/100\n",
            "40000/40000 [==============================] - 5s 115us/step - loss: 0.5748 - acc: 0.8005 - val_loss: 0.6918 - val_acc: 0.7617\n",
            "\n",
            "Epoch 00063: val_loss did not improve from 0.68818\n",
            "Epoch 64/100\n",
            "40000/40000 [==============================] - 5s 115us/step - loss: 0.5719 - acc: 0.8025 - val_loss: 0.6863 - val_acc: 0.7689\n",
            "\n",
            "Epoch 00064: val_loss improved from 0.68818 to 0.68633, saving model to keras_cifar10_chkpt_e100.hdf5\n",
            "Epoch 65/100\n",
            "40000/40000 [==============================] - 5s 116us/step - loss: 0.5718 - acc: 0.8019 - val_loss: 0.7409 - val_acc: 0.7571\n",
            "\n",
            "Epoch 00065: val_loss did not improve from 0.68633\n",
            "Epoch 66/100\n",
            "40000/40000 [==============================] - 5s 118us/step - loss: 0.5660 - acc: 0.8057 - val_loss: 0.6656 - val_acc: 0.7739\n",
            "\n",
            "Epoch 00066: val_loss improved from 0.68633 to 0.66557, saving model to keras_cifar10_chkpt_e100.hdf5\n",
            "Epoch 67/100\n",
            "40000/40000 [==============================] - 5s 117us/step - loss: 0.5628 - acc: 0.8048 - val_loss: 0.6738 - val_acc: 0.7707\n",
            "\n",
            "Epoch 00067: val_loss did not improve from 0.66557\n",
            "Epoch 68/100\n",
            "40000/40000 [==============================] - 5s 116us/step - loss: 0.5555 - acc: 0.8068 - val_loss: 0.6742 - val_acc: 0.7713\n",
            "\n",
            "Epoch 00068: val_loss did not improve from 0.66557\n",
            "Epoch 69/100\n",
            "40000/40000 [==============================] - 5s 117us/step - loss: 0.5517 - acc: 0.8093 - val_loss: 0.6626 - val_acc: 0.7739\n",
            "\n",
            "Epoch 00069: val_loss improved from 0.66557 to 0.66262, saving model to keras_cifar10_chkpt_e100.hdf5\n",
            "Epoch 70/100\n",
            "40000/40000 [==============================] - 5s 115us/step - loss: 0.5462 - acc: 0.8100 - val_loss: 0.6887 - val_acc: 0.7703\n",
            "\n",
            "Epoch 00070: val_loss did not improve from 0.66262\n",
            "Epoch 71/100\n",
            "40000/40000 [==============================] - 5s 114us/step - loss: 0.5406 - acc: 0.8117 - val_loss: 0.6560 - val_acc: 0.7767\n",
            "\n",
            "Epoch 00071: val_loss improved from 0.66262 to 0.65604, saving model to keras_cifar10_chkpt_e100.hdf5\n",
            "Epoch 72/100\n",
            "40000/40000 [==============================] - 5s 115us/step - loss: 0.5402 - acc: 0.8146 - val_loss: 0.6761 - val_acc: 0.7715\n",
            "\n",
            "Epoch 00072: val_loss did not improve from 0.65604\n",
            "Epoch 73/100\n",
            "40000/40000 [==============================] - 5s 116us/step - loss: 0.5350 - acc: 0.8157 - val_loss: 0.6664 - val_acc: 0.7757\n",
            "\n",
            "Epoch 00073: val_loss did not improve from 0.65604\n",
            "Epoch 74/100\n",
            "40000/40000 [==============================] - 5s 115us/step - loss: 0.5345 - acc: 0.8172 - val_loss: 0.6640 - val_acc: 0.7735\n",
            "\n",
            "Epoch 00074: val_loss did not improve from 0.65604\n",
            "Epoch 75/100\n",
            "40000/40000 [==============================] - 5s 115us/step - loss: 0.5232 - acc: 0.8195 - val_loss: 0.6694 - val_acc: 0.7758\n",
            "\n",
            "Epoch 00075: val_loss did not improve from 0.65604\n",
            "Epoch 76/100\n",
            "40000/40000 [==============================] - 5s 114us/step - loss: 0.5221 - acc: 0.8203 - val_loss: 0.6783 - val_acc: 0.7734\n",
            "\n",
            "Epoch 00076: val_loss did not improve from 0.65604\n",
            "Epoch 77/100\n",
            "40000/40000 [==============================] - 5s 115us/step - loss: 0.5171 - acc: 0.8230 - val_loss: 0.6575 - val_acc: 0.7759\n",
            "\n",
            "Epoch 00077: val_loss did not improve from 0.65604\n",
            "Epoch 78/100\n",
            "40000/40000 [==============================] - 5s 114us/step - loss: 0.5150 - acc: 0.8238 - val_loss: 0.6680 - val_acc: 0.7762\n",
            "\n",
            "Epoch 00078: val_loss did not improve from 0.65604\n",
            "Epoch 79/100\n",
            "40000/40000 [==============================] - 5s 115us/step - loss: 0.5084 - acc: 0.8237 - val_loss: 0.6844 - val_acc: 0.7709\n",
            "\n",
            "Epoch 00079: val_loss did not improve from 0.65604\n",
            "Epoch 80/100\n",
            "40000/40000 [==============================] - 5s 115us/step - loss: 0.5125 - acc: 0.8227 - val_loss: 0.6783 - val_acc: 0.7739\n",
            "\n",
            "Epoch 00080: val_loss did not improve from 0.65604\n",
            "Epoch 81/100\n",
            "40000/40000 [==============================] - 5s 116us/step - loss: 0.5044 - acc: 0.8255 - val_loss: 0.6586 - val_acc: 0.7753\n",
            "\n",
            "Epoch 00081: val_loss did not improve from 0.65604\n",
            "Epoch 82/100\n",
            "40000/40000 [==============================] - 5s 116us/step - loss: 0.5031 - acc: 0.8250 - val_loss: 0.6519 - val_acc: 0.7837\n",
            "\n",
            "Epoch 00082: val_loss improved from 0.65604 to 0.65192, saving model to keras_cifar10_chkpt_e100.hdf5\n",
            "Epoch 83/100\n",
            "40000/40000 [==============================] - 5s 116us/step - loss: 0.4963 - acc: 0.8290 - val_loss: 0.6543 - val_acc: 0.7815\n",
            "\n",
            "Epoch 00083: val_loss did not improve from 0.65192\n",
            "Epoch 84/100\n",
            "40000/40000 [==============================] - 5s 116us/step - loss: 0.4957 - acc: 0.8294 - val_loss: 0.6480 - val_acc: 0.7846\n",
            "\n",
            "Epoch 00084: val_loss improved from 0.65192 to 0.64797, saving model to keras_cifar10_chkpt_e100.hdf5\n",
            "Epoch 85/100\n",
            "40000/40000 [==============================] - 5s 115us/step - loss: 0.4896 - acc: 0.8319 - val_loss: 0.6563 - val_acc: 0.7797\n",
            "\n",
            "Epoch 00085: val_loss did not improve from 0.64797\n",
            "Epoch 86/100\n",
            "40000/40000 [==============================] - 5s 115us/step - loss: 0.4864 - acc: 0.8317 - val_loss: 0.6482 - val_acc: 0.7851\n",
            "\n",
            "Epoch 00086: val_loss did not improve from 0.64797\n",
            "Epoch 87/100\n",
            "40000/40000 [==============================] - 5s 115us/step - loss: 0.4907 - acc: 0.8304 - val_loss: 0.6477 - val_acc: 0.7854\n",
            "\n",
            "Epoch 00087: val_loss improved from 0.64797 to 0.64767, saving model to keras_cifar10_chkpt_e100.hdf5\n",
            "Epoch 88/100\n",
            "40000/40000 [==============================] - 5s 115us/step - loss: 0.4861 - acc: 0.8316 - val_loss: 0.6430 - val_acc: 0.7844\n",
            "\n",
            "Epoch 00088: val_loss improved from 0.64767 to 0.64296, saving model to keras_cifar10_chkpt_e100.hdf5\n",
            "Epoch 89/100\n",
            "40000/40000 [==============================] - 5s 115us/step - loss: 0.4852 - acc: 0.8326 - val_loss: 0.6315 - val_acc: 0.7855\n",
            "\n",
            "Epoch 00089: val_loss improved from 0.64296 to 0.63153, saving model to keras_cifar10_chkpt_e100.hdf5\n",
            "Epoch 90/100\n",
            "40000/40000 [==============================] - 5s 115us/step - loss: 0.4786 - acc: 0.8375 - val_loss: 0.6842 - val_acc: 0.7804\n",
            "\n",
            "Epoch 00090: val_loss did not improve from 0.63153\n",
            "Epoch 91/100\n",
            "40000/40000 [==============================] - 5s 116us/step - loss: 0.4752 - acc: 0.8358 - val_loss: 0.6434 - val_acc: 0.7857\n",
            "\n",
            "Epoch 00091: val_loss did not improve from 0.63153\n",
            "Epoch 92/100\n",
            "40000/40000 [==============================] - 5s 115us/step - loss: 0.4763 - acc: 0.8353 - val_loss: 0.6508 - val_acc: 0.7867\n",
            "\n",
            "Epoch 00092: val_loss did not improve from 0.63153\n",
            "Epoch 93/100\n",
            "40000/40000 [==============================] - 5s 115us/step - loss: 0.4747 - acc: 0.8390 - val_loss: 0.6317 - val_acc: 0.7879\n",
            "\n",
            "Epoch 00093: val_loss did not improve from 0.63153\n",
            "Epoch 94/100\n",
            "40000/40000 [==============================] - 5s 114us/step - loss: 0.4731 - acc: 0.8392 - val_loss: 0.6593 - val_acc: 0.7828\n",
            "\n",
            "Epoch 00094: val_loss did not improve from 0.63153\n",
            "Epoch 95/100\n",
            "40000/40000 [==============================] - 5s 115us/step - loss: 0.4614 - acc: 0.8433 - val_loss: 0.6355 - val_acc: 0.7888\n",
            "\n",
            "Epoch 00095: val_loss did not improve from 0.63153\n",
            "Epoch 96/100\n",
            "40000/40000 [==============================] - 5s 114us/step - loss: 0.4696 - acc: 0.8412 - val_loss: 0.6344 - val_acc: 0.7899\n",
            "\n",
            "Epoch 00096: val_loss did not improve from 0.63153\n",
            "Epoch 97/100\n",
            "40000/40000 [==============================] - 5s 115us/step - loss: 0.4641 - acc: 0.8417 - val_loss: 0.6764 - val_acc: 0.7825\n",
            "\n",
            "Epoch 00097: val_loss did not improve from 0.63153\n",
            "Epoch 98/100\n",
            "40000/40000 [==============================] - 5s 115us/step - loss: 0.4626 - acc: 0.8413 - val_loss: 0.6742 - val_acc: 0.7807\n",
            "\n",
            "Epoch 00098: val_loss did not improve from 0.63153\n",
            "Epoch 99/100\n",
            "40000/40000 [==============================] - 5s 115us/step - loss: 0.4616 - acc: 0.8419 - val_loss: 0.6294 - val_acc: 0.7914\n",
            "\n",
            "Epoch 00099: val_loss improved from 0.63153 to 0.62941, saving model to keras_cifar10_chkpt_e100.hdf5\n",
            "Epoch 100/100\n",
            "40000/40000 [==============================] - 5s 115us/step - loss: 0.4571 - acc: 0.8427 - val_loss: 0.6456 - val_acc: 0.7883\n",
            "\n",
            "Epoch 00100: val_loss did not improve from 0.62941\n"
          ],
          "name": "stdout"
        },
        {
          "output_type": "execute_result",
          "data": {
            "text/plain": [
              "<keras.callbacks.History at 0x7f752f363278>"
            ]
          },
          "metadata": {
            "tags": []
          },
          "execution_count": 59
        }
      ]
    },
    {
      "cell_type": "code",
      "metadata": {
        "id": "NyiOnhNWAIL7",
        "colab_type": "code",
        "outputId": "91effd32-1e54-4935-a0ab-d052e2b06708",
        "colab": {
          "base_uri": "https://localhost:8080/",
          "height": 68
        }
      },
      "source": [
        "scores = model.evaluate(x_test, y_test, verbose=1)\n",
        "print('Test loss:', scores[0])\n",
        "print('Test accuracy:', scores[1])"
      ],
      "execution_count": 60,
      "outputs": [
        {
          "output_type": "stream",
          "text": [
            "10000/10000 [==============================] - 1s 74us/step\n",
            "Test loss: 0.6680414448738098\n",
            "Test accuracy: 0.7838\n"
          ],
          "name": "stdout"
        }
      ]
    },
    {
      "cell_type": "code",
      "metadata": {
        "id": "Q7Fxh8XjAxBP",
        "colab_type": "code",
        "outputId": "cc32fd58-c673-4995-86ce-1d45b151502c",
        "colab": {
          "base_uri": "https://localhost:8080/",
          "height": 102
        }
      },
      "source": [
        "!ls -lht"
      ],
      "execution_count": 61,
      "outputs": [
        {
          "output_type": "stream",
          "text": [
            "total 9.7M\n",
            "-rw-r--r-- 1 root root 5.6K Aug  6 04:17 keras_cifar10_csvlogger_e100.csv\n",
            "-rw-r--r-- 1 root root 9.6M Aug  6 04:17 keras_cifar10_chkpt_e100.hdf5\n",
            "-rw-r--r-- 1 root root 4.9K Aug  6 04:09 keras_cifar10_e100.json\n",
            "drwxr-xr-x 1 root root 4.0K Aug  2 16:06 sample_data\n"
          ],
          "name": "stdout"
        }
      ]
    },
    {
      "cell_type": "code",
      "metadata": {
        "id": "TVfFkyEABK7s",
        "colab_type": "code",
        "colab": {}
      },
      "source": [
        "# from google.colab import files\n",
        "\n",
        "# files.download('keras_cifar10_chkpt_e100.hdf5')\n",
        "# files.download('keras_cifar10_e100.json')\n",
        "# files.download('keras_cifar10_csvlogger_e100.csv')"
      ],
      "execution_count": 0,
      "outputs": []
    },
    {
      "cell_type": "code",
      "metadata": {
        "id": "hyY7G6D1An8q",
        "colab_type": "code",
        "colab": {
          "base_uri": "https://localhost:8080/",
          "height": 748
        },
        "outputId": "7b4d9140-4e15-47b4-bcf2-0680b4884a18"
      },
      "source": [
        "from keras.models import Sequential\n",
        "from keras.optimizers import Adam\n",
        "from keras.models import model_from_json\n",
        "\n",
        "themodel=model_from_json(open('keras_cifar10_e100.json').read())  \n",
        "themodel.load_weights('keras_cifar10_chkpt_e100.hdf5')\n",
        "themodel.compile(loss='categorical_crossentropy',\n",
        "              optimizer=opt,\n",
        "              metrics=['accuracy'])\n",
        "\n",
        "themodel.summary()"
      ],
      "execution_count": 64,
      "outputs": [
        {
          "output_type": "stream",
          "text": [
            "_________________________________________________________________\n",
            "Layer (type)                 Output Shape              Param #   \n",
            "=================================================================\n",
            "conv2d_5 (Conv2D)            (None, 32, 32, 32)        896       \n",
            "_________________________________________________________________\n",
            "activation_7 (Activation)    (None, 32, 32, 32)        0         \n",
            "_________________________________________________________________\n",
            "conv2d_6 (Conv2D)            (None, 30, 30, 32)        9248      \n",
            "_________________________________________________________________\n",
            "activation_8 (Activation)    (None, 30, 30, 32)        0         \n",
            "_________________________________________________________________\n",
            "max_pooling2d_3 (MaxPooling2 (None, 15, 15, 32)        0         \n",
            "_________________________________________________________________\n",
            "dropout_4 (Dropout)          (None, 15, 15, 32)        0         \n",
            "_________________________________________________________________\n",
            "conv2d_7 (Conv2D)            (None, 15, 15, 64)        18496     \n",
            "_________________________________________________________________\n",
            "activation_9 (Activation)    (None, 15, 15, 64)        0         \n",
            "_________________________________________________________________\n",
            "conv2d_8 (Conv2D)            (None, 13, 13, 64)        36928     \n",
            "_________________________________________________________________\n",
            "activation_10 (Activation)   (None, 13, 13, 64)        0         \n",
            "_________________________________________________________________\n",
            "max_pooling2d_4 (MaxPooling2 (None, 6, 6, 64)          0         \n",
            "_________________________________________________________________\n",
            "dropout_5 (Dropout)          (None, 6, 6, 64)          0         \n",
            "_________________________________________________________________\n",
            "flatten_2 (Flatten)          (None, 2304)              0         \n",
            "_________________________________________________________________\n",
            "dense_3 (Dense)              (None, 512)               1180160   \n",
            "_________________________________________________________________\n",
            "activation_11 (Activation)   (None, 512)               0         \n",
            "_________________________________________________________________\n",
            "dropout_6 (Dropout)          (None, 512)               0         \n",
            "_________________________________________________________________\n",
            "dense_4 (Dense)              (None, 10)                5130      \n",
            "_________________________________________________________________\n",
            "activation_12 (Activation)   (None, 10)                0         \n",
            "=================================================================\n",
            "Total params: 1,250,858\n",
            "Trainable params: 1,250,858\n",
            "Non-trainable params: 0\n",
            "_________________________________________________________________\n"
          ],
          "name": "stdout"
        }
      ]
    },
    {
      "cell_type": "code",
      "metadata": {
        "id": "BqxL8xnBD6o_",
        "colab_type": "code",
        "colab": {
          "base_uri": "https://localhost:8080/",
          "height": 421
        },
        "outputId": "f593af97-0d35-449d-e1d8-7b4af1dbbb1a"
      },
      "source": [
        "#plot the train/validation acc/loss in plot\n",
        "import pandas as pd\n",
        "import matplotlib.pyplot as plt\n",
        "train_rslt=pd.read_csv('keras_cifar10_csvlogger_e100.csv',sep=',')\n",
        "train_rslt.epoch=train_rslt.epoch+1\n",
        "f=plt.figure(figsize=[16,6])\n",
        "plt.subplot(1,2,1)\n",
        "plt.plot(train_rslt['epoch'], train_rslt['acc'],'-o', label='Train Acc')\n",
        "plt.plot(train_rslt['epoch'], train_rslt['val_acc'],'-o',label='Validation Acc')  \n",
        "plt.title(\"Accuracy\")\n",
        "plt.xlabel(\"Epochs\")\n",
        "plt.grid()\n",
        "plt.legend(loc='best')\n",
        "plt.subplot(1,2,2)\n",
        "plt.plot(train_rslt['epoch'], train_rslt['loss'],':o', label='Train Loss')\n",
        "plt.plot(train_rslt['epoch'], train_rslt['val_loss'],':o',label='Validation Loss')  \n",
        "plt.title(\"Loss\")\n",
        "plt.xlabel(\"Epochs\")\n",
        "plt.grid()\n",
        "plt.legend(loc='best')\n"
      ],
      "execution_count": 65,
      "outputs": [
        {
          "output_type": "execute_result",
          "data": {
            "text/plain": [
              "<matplotlib.legend.Legend at 0x7f752d397fd0>"
            ]
          },
          "metadata": {
            "tags": []
          },
          "execution_count": 65
        },
        {
          "output_type": "display_data",
          "data": {
            "image/png": "[encoded data removed]",
            "text/plain": [
              "<Figure size 1152x432 with 2 Axes>"
            ]
          },
          "metadata": {
            "tags": []
          }
        }
      ]
    },
    {
      "cell_type": "code",
      "metadata": {
        "id": "TG1Z5VebEzy6",
        "colab_type": "code",
        "colab": {
          "base_uri": "https://localhost:8080/",
          "height": 51
        },
        "outputId": "1b1adcfa-ad7c-4994-d0aa-268ba7d779b9"
      },
      "source": [
        "import numpy as np\n",
        "labels_test=[x.argmax() for x in y_test[::1,:]]\n",
        "type(labels_test)\n",
        "print(labels_test[:5])\n",
        "\n",
        "ypred=themodel.predict(x_test)\n",
        "pred_labels=[x.argmax() for x in ypred[::1,:]]\n",
        "pred_labels[:5]"
      ],
      "execution_count": 66,
      "outputs": [
        {
          "output_type": "stream",
          "text": [
            "[3, 8, 8, 0, 6]\n"
          ],
          "name": "stdout"
        },
        {
          "output_type": "execute_result",
          "data": {
            "text/plain": [
              "[3, 8, 8, 0, 6]"
            ]
          },
          "metadata": {
            "tags": []
          },
          "execution_count": 66
        }
      ]
    },
    {
      "cell_type": "code",
      "metadata": {
        "id": "rDeIQp-cEgkq",
        "colab_type": "code",
        "colab": {
          "base_uri": "https://localhost:8080/",
          "height": 306
        },
        "outputId": "3c617f3e-3a8f-464c-e4d4-d1913a0e5670"
      },
      "source": [
        "#metrics report\n",
        "from sklearn.metrics import classification_report\n",
        "crpt=classification_report(labels_test,pred_labels)\n",
        "print(crpt)"
      ],
      "execution_count": 67,
      "outputs": [
        {
          "output_type": "stream",
          "text": [
            "              precision    recall  f1-score   support\n",
            "\n",
            "           0       0.81      0.81      0.81      1000\n",
            "           1       0.89      0.91      0.90      1000\n",
            "           2       0.67      0.71      0.69      1000\n",
            "           3       0.62      0.60      0.61      1000\n",
            "           4       0.75      0.74      0.75      1000\n",
            "           5       0.74      0.66      0.70      1000\n",
            "           6       0.79      0.88      0.83      1000\n",
            "           7       0.86      0.81      0.84      1000\n",
            "           8       0.86      0.87      0.86      1000\n",
            "           9       0.85      0.87      0.86      1000\n",
            "\n",
            "    accuracy                           0.78     10000\n",
            "   macro avg       0.78      0.78      0.78     10000\n",
            "weighted avg       0.78      0.78      0.78     10000\n",
            "\n"
          ],
          "name": "stdout"
        }
      ]
    },
    {
      "cell_type": "code",
      "metadata": {
        "id": "qU0giP-gGJmG",
        "colab_type": "code",
        "colab": {
          "base_uri": "https://localhost:8080/",
          "height": 298
        },
        "outputId": "fbbe132c-8070-4412-858f-eb6fe24b299e"
      },
      "source": [
        "#confusion matrix and heatmap plot and matshow plot\n",
        "from sklearn.metrics import confusion_matrix\n",
        "import seaborn as sn\n",
        "mx=confusion_matrix(labels_test, pred_labels)\n",
        "print((np.array(pred_labels)==np.array(labels_test)).mean())\n",
        "f=plt.figure()\n",
        "sn.heatmap(mx/100, annot=True, cmap=plt.cm.Blues) #plot percent, total 10k test labels\n",
        "plt.xticks(ticks=range(10))\n",
        "plt.title('Percentage')\n",
        "plt.show()"
      ],
      "execution_count": 68,
      "outputs": [
        {
          "output_type": "stream",
          "text": [
            "0.7846\n"
          ],
          "name": "stdout"
        },
        {
          "output_type": "display_data",
          "data": {
            "image/png": "[encoded data removed]",
            "text/plain": [
              "<Figure size 432x288 with 2 Axes>"
            ]
          },
          "metadata": {
            "tags": []
          }
        }
      ]
    },
    {
      "cell_type": "code",
      "metadata": {
        "id": "ZgabIh4PGvsm",
        "colab_type": "code",
        "colab": {}
      },
      "source": [
        ""
      ],
      "execution_count": 0,
      "outputs": []
    }
  ]
}