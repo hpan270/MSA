{
  "nbformat": 4,
  "nbformat_minor": 0,
  "metadata": {
    "colab": {
      "name": "keras_cifar10.ipynb",
      "version": "0.3.2",
      "provenance": [],
      "collapsed_sections": [],
      "include_colab_link": true
    },
    "kernelspec": {
      "name": "python3",
      "display_name": "Python 3"
    },
    "accelerator": "GPU"
  },
  "cells": [
    {
      "cell_type": "markdown",
      "metadata": {
        "id": "view-in-github",
        "colab_type": "text"
      },
      "source": [
        "<a href=\"https://colab.research.google.com/github/hpan270/MSA/blob/master/keras_cifar10.ipynb\" target=\"_parent\"><img src=\"https://colab.research.google.com/assets/colab-badge.svg\" alt=\"Open In Colab\"/></a>"
      ]
    },
    {
      "cell_type": "code",
      "metadata": {
        "id": "D9Gp2m6v9nWU",
        "colab_type": "code",
        "outputId": "002ccef8-8d34-4399-9ea2-19d65cce7d88",
        "colab": {
          "base_uri": "https://localhost:8080/",
          "height": 34
        }
      },
      "source": [
        "import tensorflow as tf\n",
        "tf.test.gpu_device_name()"
      ],
      "execution_count": 1,
      "outputs": [
        {
          "output_type": "execute_result",
          "data": {
            "text/plain": [
              "'/device:GPU:0'"
            ]
          },
          "metadata": {
            "tags": []
          },
          "execution_count": 1
        }
      ]
    },
    {
      "cell_type": "code",
      "metadata": {
        "id": "8rNaBz3j9uII",
        "colab_type": "code",
        "outputId": "8b61b9f1-757d-4f2b-9632-7acffe2b791b",
        "colab": {
          "base_uri": "https://localhost:8080/",
          "height": 68
        }
      },
      "source": [
        "from __future__ import print_function\n",
        "import keras\n",
        "from keras.datasets import cifar10\n",
        "from keras.preprocessing.image import ImageDataGenerator\n",
        "from keras.models import Sequential\n",
        "from keras.layers import Dense, Dropout, Activation, Flatten\n",
        "from keras.layers import Conv2D, MaxPooling2D\n",
        "import os\n",
        "\n",
        "batch_size = 128\n",
        "num_classes = 10\n",
        "epochs = 32\n",
        "data_augmentation = True\n",
        "num_predictions = 20\n",
        "\n",
        "# The data, split between train and test sets:\n",
        "(x_train, y_train), (x_test, y_test) = cifar10.load_data()\n",
        "print('x_train shape:', x_train.shape)\n",
        "print(x_train.shape[0], 'train samples')\n",
        "print(x_test.shape[0], 'test samples')\n",
        "\n",
        "# Convert class vectors to binary class matrices.\n",
        "y_train = keras.utils.to_categorical(y_train, num_classes)\n",
        "y_test = keras.utils.to_categorical(y_test, num_classes)\n",
        "\n",
        "model = Sequential()\n",
        "model.add(Conv2D(32, (3, 3), padding='same',\n",
        "                 input_shape=x_train.shape[1:]))\n",
        "model.add(Activation('relu'))\n",
        "model.add(Conv2D(32, (3, 3)))\n",
        "model.add(Activation('relu'))\n",
        "model.add(MaxPooling2D(pool_size=(2, 2)))\n",
        "model.add(Dropout(0.25))\n",
        "\n",
        "model.add(Conv2D(64, (3, 3), padding='same'))\n",
        "model.add(Activation('relu'))\n",
        "model.add(Conv2D(64, (3, 3)))\n",
        "model.add(Activation('relu'))\n",
        "model.add(MaxPooling2D(pool_size=(2, 2)))\n",
        "model.add(Dropout(0.25))\n",
        "\n",
        "model.add(Flatten())\n",
        "model.add(Dense(512))\n",
        "model.add(Activation('relu'))\n",
        "model.add(Dropout(0.5))\n",
        "model.add(Dense(num_classes))\n",
        "model.add(Activation('softmax'))\n",
        "\n",
        "# initiate RMSprop optimizer\n",
        "opt = keras.optimizers.rmsprop(lr=0.0001, decay=1e-6)\n",
        "\n",
        "# Let's train the model using RMSprop\n",
        "model.compile(loss='categorical_crossentropy',\n",
        "              optimizer=opt,\n",
        "              metrics=['accuracy'])\n",
        "\n",
        "x_train = x_train.astype('float32')\n",
        "x_test = x_test.astype('float32')\n",
        "x_train /= 255\n",
        "x_test /= 255"
      ],
      "execution_count": 12,
      "outputs": [
        {
          "output_type": "stream",
          "text": [
            "x_train shape: (50000, 32, 32, 3)\n",
            "50000 train samples\n",
            "10000 test samples\n"
          ],
          "name": "stdout"
        }
      ]
    },
    {
      "cell_type": "code",
      "metadata": {
        "id": "7wioVWjP915O",
        "colab_type": "code",
        "outputId": "da40cf1e-fd52-4ebd-9fe1-84ecdb366283",
        "colab": {
          "base_uri": "https://localhost:8080/",
          "height": 34
        }
      },
      "source": [
        "json_str=model.to_json()\n",
        "open(\"keras_cifar10_aug.json\",'w').write(json_str)"
      ],
      "execution_count": 13,
      "outputs": [
        {
          "output_type": "execute_result",
          "data": {
            "text/plain": [
              "4998"
            ]
          },
          "metadata": {
            "tags": []
          },
          "execution_count": 13
        }
      ]
    },
    {
      "cell_type": "code",
      "metadata": {
        "id": "Lis14aLB-B4E",
        "colab_type": "code",
        "colab": {}
      },
      "source": [
        "from keras import callbacks"
      ],
      "execution_count": 0,
      "outputs": []
    },
    {
      "cell_type": "code",
      "metadata": {
        "id": "3N2ugTN9-Dsm",
        "colab_type": "code",
        "colab": {}
      },
      "source": [
        "csvlogger=callbacks.CSVLogger('keras_cifar10_csvlogger_aug.csv',separator=',',append=False)\n",
        "chkpt=callbacks.ModelCheckpoint('keras_cifar10_chkpt_aug.hdf5',verbose=1, save_best_only=True)#for augment=false, otherwise=true"
      ],
      "execution_count": 0,
      "outputs": []
    },
    {
      "cell_type": "code",
      "metadata": {
        "id": "ev9n4Tu2_l_t",
        "colab_type": "code",
        "outputId": "9698555f-607a-49d2-93c0-1589ac36b539",
        "colab": {
          "base_uri": "https://localhost:8080/",
          "height": 1000
        }
      },
      "source": [
        "if not data_augmentation:\n",
        "  print('Not using data augmentation.')\n",
        "  model.fit(x_train, y_train,\n",
        "            batch_size=batch_size,\n",
        "            epochs=epochs,\n",
        "            validation_split=0.2,\n",
        "            callbacks=[csvlogger,chkpt],\n",
        "            shuffle=True)\n",
        "else:\n",
        "  print('Using real-time data augmentation.')\n",
        "  # This will do preprocessing and realtime data augmentation:\n",
        "  datagen = ImageDataGenerator(\n",
        "      featurewise_center=False,  # set input mean to 0 over the dataset\n",
        "      samplewise_center=False,  # set each sample mean to 0\n",
        "      featurewise_std_normalization=False,  # divide inputs by std of the dataset\n",
        "      samplewise_std_normalization=False,  # divide each input by its std\n",
        "      zca_whitening=False,  # apply ZCA whitening\n",
        "      zca_epsilon=1e-06,  # epsilon for ZCA whitening\n",
        "      rotation_range=0,  # randomly rotate images in the range (degrees, 0 to 180)\n",
        "      # randomly shift images horizontally (fraction of total width)\n",
        "      width_shift_range=0.1,\n",
        "      # randomly shift images vertically (fraction of total height)\n",
        "      height_shift_range=0.1,\n",
        "      shear_range=0.,  # set range for random shear\n",
        "      zoom_range=0.,  # set range for random zoom\n",
        "      channel_shift_range=0.,  # set range for random channel shifts\n",
        "      # set mode for filling points outside the input boundaries\n",
        "      fill_mode='nearest',\n",
        "      cval=0.,  # value used for fill_mode = \"constant\"\n",
        "      horizontal_flip=True,  # randomly flip images\n",
        "      vertical_flip=False,  # randomly flip images\n",
        "      # set rescaling factor (applied before any other transformation)\n",
        "      rescale=None,\n",
        "      # set function that will be applied on each input\n",
        "      preprocessing_function=None,\n",
        "      # image data format, either \"channels_first\" or \"channels_last\"\n",
        "      data_format=None,\n",
        "      # fraction of images reserved for validation (strictly between 0 and 1)\n",
        "      validation_split=0.0)\n",
        "\n",
        "  # Compute quantities required for feature-wise normalization\n",
        "  # (std, mean, and principal components if ZCA whitening is applied).\n",
        "  datagen.fit(x_train)\n",
        "\n",
        "  # Fit the model on the batches generated by datagen.flow().\n",
        "  model.fit_generator(datagen.flow(x_train, y_train,batch_size=batch_size),\n",
        "                      epochs=epochs,\n",
        "                      steps_per_epoch=x_train.__len__()/10,\n",
        "                      validation_data=(x_test, y_test),\n",
        "                      callbacks=[csvlogger,chkpt],\n",
        "                      shuffle=True)"
      ],
      "execution_count": 18,
      "outputs": [
        {
          "output_type": "stream",
          "text": [
            "Using real-time data augmentation.\n",
            "Epoch 1/32\n",
            "5000/5000 [==============================] - 236s 47ms/step - loss: 0.9005 - acc: 0.6841 - val_loss: 0.7402 - val_acc: 0.7459\n",
            "\n",
            "Epoch 00001: val_loss improved from 0.86368 to 0.74016, saving model to keras_cifar10_chkpt_aug.hdf5\n",
            "Epoch 2/32\n",
            "5000/5000 [==============================] - 236s 47ms/step - loss: 0.8160 - acc: 0.7151 - val_loss: 0.6658 - val_acc: 0.7688\n",
            "\n",
            "Epoch 00002: val_loss improved from 0.74016 to 0.66577, saving model to keras_cifar10_chkpt_aug.hdf5\n",
            "Epoch 3/32\n",
            "5000/5000 [==============================] - 236s 47ms/step - loss: 0.7609 - acc: 0.7354 - val_loss: 0.6658 - val_acc: 0.7751\n",
            "\n",
            "Epoch 00003: val_loss did not improve from 0.66577\n",
            "Epoch 4/32\n",
            "5000/5000 [==============================] - 236s 47ms/step - loss: 0.7235 - acc: 0.7493 - val_loss: 0.6358 - val_acc: 0.7802\n",
            "\n",
            "Epoch 00004: val_loss improved from 0.66577 to 0.63584, saving model to keras_cifar10_chkpt_aug.hdf5\n",
            "Epoch 5/32\n",
            "5000/5000 [==============================] - 237s 47ms/step - loss: 0.6977 - acc: 0.7593 - val_loss: 0.6068 - val_acc: 0.7924\n",
            "\n",
            "Epoch 00005: val_loss improved from 0.63584 to 0.60680, saving model to keras_cifar10_chkpt_aug.hdf5\n",
            "Epoch 6/32\n",
            "5000/5000 [==============================] - 236s 47ms/step - loss: 0.6790 - acc: 0.7670 - val_loss: 0.5856 - val_acc: 0.8026\n",
            "\n",
            "Epoch 00006: val_loss improved from 0.60680 to 0.58563, saving model to keras_cifar10_chkpt_aug.hdf5\n",
            "Epoch 7/32\n",
            "5000/5000 [==============================] - 235s 47ms/step - loss: 0.6643 - acc: 0.7723 - val_loss: 0.5602 - val_acc: 0.8074\n",
            "\n",
            "Epoch 00007: val_loss improved from 0.58563 to 0.56024, saving model to keras_cifar10_chkpt_aug.hdf5\n",
            "Epoch 8/32\n",
            "5000/5000 [==============================] - 235s 47ms/step - loss: 0.6520 - acc: 0.7777 - val_loss: 0.5562 - val_acc: 0.8120\n",
            "\n",
            "Epoch 00008: val_loss improved from 0.56024 to 0.55617, saving model to keras_cifar10_chkpt_aug.hdf5\n",
            "Epoch 9/32\n",
            "5000/5000 [==============================] - 235s 47ms/step - loss: 0.6402 - acc: 0.7816 - val_loss: 0.5477 - val_acc: 0.8152\n",
            "\n",
            "Epoch 00009: val_loss improved from 0.55617 to 0.54774, saving model to keras_cifar10_chkpt_aug.hdf5\n",
            "Epoch 10/32\n",
            "5000/5000 [==============================] - 235s 47ms/step - loss: 0.6340 - acc: 0.7855 - val_loss: 0.5518 - val_acc: 0.8156\n",
            "\n",
            "Epoch 00010: val_loss did not improve from 0.54774\n",
            "Epoch 11/32\n",
            "5000/5000 [==============================] - 236s 47ms/step - loss: 0.6239 - acc: 0.7895 - val_loss: 0.5360 - val_acc: 0.8214\n",
            "\n",
            "Epoch 00011: val_loss improved from 0.54774 to 0.53595, saving model to keras_cifar10_chkpt_aug.hdf5\n",
            "Epoch 12/32\n",
            "5000/5000 [==============================] - 235s 47ms/step - loss: 0.6170 - acc: 0.7925 - val_loss: 0.5580 - val_acc: 0.8079\n",
            "\n",
            "Epoch 00012: val_loss did not improve from 0.53595\n",
            "Epoch 13/32\n",
            "5000/5000 [==============================] - 235s 47ms/step - loss: 0.6101 - acc: 0.7947 - val_loss: 0.5653 - val_acc: 0.8107\n",
            "\n",
            "Epoch 00013: val_loss did not improve from 0.53595\n",
            "Epoch 14/32\n",
            "5000/5000 [==============================] - 233s 47ms/step - loss: 0.6046 - acc: 0.7973 - val_loss: 0.5854 - val_acc: 0.8019\n",
            "\n",
            "Epoch 00014: val_loss did not improve from 0.53595\n",
            "Epoch 15/32\n",
            "5000/5000 [==============================] - 233s 47ms/step - loss: 0.5982 - acc: 0.7994 - val_loss: 0.5553 - val_acc: 0.8148\n",
            "\n",
            "Epoch 00015: val_loss did not improve from 0.53595\n",
            "Epoch 16/32\n",
            "5000/5000 [==============================] - 233s 47ms/step - loss: 0.5948 - acc: 0.8009 - val_loss: 0.5488 - val_acc: 0.8153\n",
            "\n",
            "Epoch 00016: val_loss did not improve from 0.53595\n",
            "Epoch 17/32\n",
            "5000/5000 [==============================] - 233s 47ms/step - loss: 0.5903 - acc: 0.8025 - val_loss: 0.5565 - val_acc: 0.8155\n",
            "\n",
            "Epoch 00017: val_loss did not improve from 0.53595\n",
            "Epoch 18/32\n",
            "5000/5000 [==============================] - 233s 47ms/step - loss: 0.5875 - acc: 0.8041 - val_loss: 0.5372 - val_acc: 0.8226\n",
            "\n",
            "Epoch 00018: val_loss did not improve from 0.53595\n",
            "Epoch 19/32\n",
            "5000/5000 [==============================] - 234s 47ms/step - loss: 0.5845 - acc: 0.8047 - val_loss: 0.5419 - val_acc: 0.8222\n",
            "\n",
            "Epoch 00019: val_loss did not improve from 0.53595\n",
            "Epoch 20/32\n",
            "5000/5000 [==============================] - 235s 47ms/step - loss: 0.5839 - acc: 0.8051 - val_loss: 0.5153 - val_acc: 0.8290\n",
            "\n",
            "Epoch 00020: val_loss improved from 0.53595 to 0.51534, saving model to keras_cifar10_chkpt_aug.hdf5\n",
            "Epoch 21/32\n",
            "5000/5000 [==============================] - 234s 47ms/step - loss: 0.5823 - acc: 0.8056 - val_loss: 0.5497 - val_acc: 0.8186\n",
            "\n",
            "Epoch 00021: val_loss did not improve from 0.51534\n",
            "Epoch 22/32\n",
            "5000/5000 [==============================] - 233s 47ms/step - loss: 0.5800 - acc: 0.8063 - val_loss: 0.5033 - val_acc: 0.8332\n",
            "\n",
            "Epoch 00022: val_loss improved from 0.51534 to 0.50332, saving model to keras_cifar10_chkpt_aug.hdf5\n",
            "Epoch 23/32\n",
            "5000/5000 [==============================] - 234s 47ms/step - loss: 0.5763 - acc: 0.8076 - val_loss: 0.5179 - val_acc: 0.8296\n",
            "\n",
            "Epoch 00023: val_loss did not improve from 0.50332\n",
            "Epoch 24/32\n",
            "5000/5000 [==============================] - 234s 47ms/step - loss: 0.5759 - acc: 0.8079 - val_loss: 0.5360 - val_acc: 0.8234\n",
            "\n",
            "Epoch 00024: val_loss did not improve from 0.50332\n",
            "Epoch 25/32\n",
            "5000/5000 [==============================] - 235s 47ms/step - loss: 0.5747 - acc: 0.8081 - val_loss: 0.4938 - val_acc: 0.8379\n",
            "\n",
            "Epoch 00025: val_loss improved from 0.50332 to 0.49385, saving model to keras_cifar10_chkpt_aug.hdf5\n",
            "Epoch 26/32\n",
            "5000/5000 [==============================] - 236s 47ms/step - loss: 0.5731 - acc: 0.8086 - val_loss: 0.5153 - val_acc: 0.8271\n",
            "\n",
            "Epoch 00026: val_loss did not improve from 0.49385\n",
            "Epoch 27/32\n",
            "5000/5000 [==============================] - 234s 47ms/step - loss: 0.5733 - acc: 0.8090 - val_loss: 0.5557 - val_acc: 0.8143\n",
            "\n",
            "Epoch 00027: val_loss did not improve from 0.49385\n",
            "Epoch 28/32\n",
            "5000/5000 [==============================] - 234s 47ms/step - loss: 0.5682 - acc: 0.8103 - val_loss: 0.5528 - val_acc: 0.8158\n",
            "\n",
            "Epoch 00028: val_loss did not improve from 0.49385\n",
            "Epoch 29/32\n",
            "5000/5000 [==============================] - 235s 47ms/step - loss: 0.5687 - acc: 0.8105 - val_loss: 0.5397 - val_acc: 0.8239\n",
            "\n",
            "Epoch 00029: val_loss did not improve from 0.49385\n",
            "Epoch 30/32\n",
            "5000/5000 [==============================] - 237s 47ms/step - loss: 0.5674 - acc: 0.8105 - val_loss: 0.5306 - val_acc: 0.8240\n",
            "\n",
            "Epoch 00030: val_loss did not improve from 0.49385\n",
            "Epoch 31/32\n",
            "5000/5000 [==============================] - 236s 47ms/step - loss: 0.5644 - acc: 0.8121 - val_loss: 0.5002 - val_acc: 0.8328\n",
            "\n",
            "Epoch 00031: val_loss did not improve from 0.49385\n",
            "Epoch 32/32\n",
            "5000/5000 [==============================] - 238s 48ms/step - loss: 0.5642 - acc: 0.8122 - val_loss: 0.5022 - val_acc: 0.8302\n",
            "\n",
            "Epoch 00032: val_loss did not improve from 0.49385\n"
          ],
          "name": "stdout"
        }
      ]
    },
    {
      "cell_type": "code",
      "metadata": {
        "id": "NyiOnhNWAIL7",
        "colab_type": "code",
        "outputId": "fed0f19f-d42c-46c3-e941-e26e9c9f49f6",
        "colab": {
          "base_uri": "https://localhost:8080/",
          "height": 68
        }
      },
      "source": [
        "scores = model.evaluate(x_test, y_test, verbose=1)\n",
        "print('Test loss:', scores[0])\n",
        "print('Test accuracy:', scores[1])"
      ],
      "execution_count": 20,
      "outputs": [
        {
          "output_type": "stream",
          "text": [
            "10000/10000 [==============================] - 1s 91us/step\n",
            "Test loss: 0.5022342145442963\n",
            "Test accuracy: 0.8302\n"
          ],
          "name": "stdout"
        }
      ]
    },
    {
      "cell_type": "code",
      "metadata": {
        "id": "Q7Fxh8XjAxBP",
        "colab_type": "code",
        "colab": {}
      },
      "source": [
        "!ls -lht"
      ],
      "execution_count": 0,
      "outputs": []
    },
    {
      "cell_type": "code",
      "metadata": {
        "id": "TVfFkyEABK7s",
        "colab_type": "code",
        "colab": {}
      },
      "source": [
        "# from google.colab import files\n",
        "\n",
        "# files.download('keras_cifar10_chkpt_aug.hdf5')\n",
        "# files.download('keras_cifar10_aug.json')\n",
        "# files.download('keras_cifar10_csvlogger_aug.csv')"
      ],
      "execution_count": 0,
      "outputs": []
    },
    {
      "cell_type": "markdown",
      "metadata": {
        "id": "jLBPJKvHa2xj",
        "colab_type": "text"
      },
      "source": [
        "Below code is to plot the cnn training result and scores"
      ]
    },
    {
      "cell_type": "code",
      "metadata": {
        "id": "hyY7G6D1An8q",
        "colab_type": "code",
        "outputId": "6d9d12f2-9415-4707-af50-536aa16139ec",
        "colab": {
          "base_uri": "https://localhost:8080/",
          "height": 748
        }
      },
      "source": [
        "from keras.models import Sequential\n",
        "from keras.optimizers import Adam\n",
        "from keras.models import model_from_json\n",
        "\n",
        "themodel=model_from_json(open('keras_cifar10_aug.json').read())  \n",
        "themodel.load_weights('keras_cifar10_chkpt_aug.hdf5')\n",
        "themodel.compile(loss='categorical_crossentropy',\n",
        "              optimizer=opt,\n",
        "              metrics=['accuracy'])\n",
        "\n",
        "themodel.summary()"
      ],
      "execution_count": 22,
      "outputs": [
        {
          "output_type": "stream",
          "text": [
            "_________________________________________________________________\n",
            "Layer (type)                 Output Shape              Param #   \n",
            "=================================================================\n",
            "conv2d_9 (Conv2D)            (None, 32, 32, 32)        896       \n",
            "_________________________________________________________________\n",
            "activation_13 (Activation)   (None, 32, 32, 32)        0         \n",
            "_________________________________________________________________\n",
            "conv2d_10 (Conv2D)           (None, 30, 30, 32)        9248      \n",
            "_________________________________________________________________\n",
            "activation_14 (Activation)   (None, 30, 30, 32)        0         \n",
            "_________________________________________________________________\n",
            "max_pooling2d_5 (MaxPooling2 (None, 15, 15, 32)        0         \n",
            "_________________________________________________________________\n",
            "dropout_7 (Dropout)          (None, 15, 15, 32)        0         \n",
            "_________________________________________________________________\n",
            "conv2d_11 (Conv2D)           (None, 15, 15, 64)        18496     \n",
            "_________________________________________________________________\n",
            "activation_15 (Activation)   (None, 15, 15, 64)        0         \n",
            "_________________________________________________________________\n",
            "conv2d_12 (Conv2D)           (None, 13, 13, 64)        36928     \n",
            "_________________________________________________________________\n",
            "activation_16 (Activation)   (None, 13, 13, 64)        0         \n",
            "_________________________________________________________________\n",
            "max_pooling2d_6 (MaxPooling2 (None, 6, 6, 64)          0         \n",
            "_________________________________________________________________\n",
            "dropout_8 (Dropout)          (None, 6, 6, 64)          0         \n",
            "_________________________________________________________________\n",
            "flatten_3 (Flatten)          (None, 2304)              0         \n",
            "_________________________________________________________________\n",
            "dense_5 (Dense)              (None, 512)               1180160   \n",
            "_________________________________________________________________\n",
            "activation_17 (Activation)   (None, 512)               0         \n",
            "_________________________________________________________________\n",
            "dropout_9 (Dropout)          (None, 512)               0         \n",
            "_________________________________________________________________\n",
            "dense_6 (Dense)              (None, 10)                5130      \n",
            "_________________________________________________________________\n",
            "activation_18 (Activation)   (None, 10)                0         \n",
            "=================================================================\n",
            "Total params: 1,250,858\n",
            "Trainable params: 1,250,858\n",
            "Non-trainable params: 0\n",
            "_________________________________________________________________\n"
          ],
          "name": "stdout"
        }
      ]
    },
    {
      "cell_type": "code",
      "metadata": {
        "id": "BqxL8xnBD6o_",
        "colab_type": "code",
        "outputId": "2c1fa79f-2590-4705-9e78-809a830bba9f",
        "colab": {
          "base_uri": "https://localhost:8080/",
          "height": 421
        }
      },
      "source": [
        "#plot the train/validation acc/loss in plot\n",
        "import pandas as pd\n",
        "import matplotlib.pyplot as plt\n",
        "train_rslt=pd.read_csv('keras_cifar10_csvlogger_aug.csv',sep=',')\n",
        "train_rslt.epoch=train_rslt.epoch+1\n",
        "f=plt.figure(figsize=[16,6])\n",
        "plt.subplot(1,2,1)\n",
        "plt.plot(train_rslt['epoch'], train_rslt['acc'],'-o', label='Train Acc')\n",
        "plt.plot(train_rslt['epoch'], train_rslt['val_acc'],'-o',label='Validation Acc')  \n",
        "plt.title(\"Accuracy\")\n",
        "plt.xlabel(\"Epochs\")\n",
        "plt.grid()\n",
        "plt.legend(loc='best')\n",
        "plt.subplot(1,2,2)\n",
        "plt.plot(train_rslt['epoch'], train_rslt['loss'],':o', label='Train Loss')\n",
        "plt.plot(train_rslt['epoch'], train_rslt['val_loss'],':o',label='Validation Loss')  \n",
        "plt.title(\"Loss\")\n",
        "plt.xlabel(\"Epochs\")\n",
        "plt.grid()\n",
        "plt.legend(loc='best')\n"
      ],
      "execution_count": 23,
      "outputs": [
        {
          "output_type": "execute_result",
          "data": {
            "text/plain": [
              "<matplotlib.legend.Legend at 0x7efc7b619048>"
            ]
          },
          "metadata": {
            "tags": []
          },
          "execution_count": 23
        },
        {
          "output_type": "display_data",
          "data": {
            "image/png": "[encoded data removed]",
            "text/plain": [
              "<Figure size 1152x432 with 2 Axes>"
            ]
          },
          "metadata": {
            "tags": []
          }
        }
      ]
    },
    {
      "cell_type": "code",
      "metadata": {
        "id": "TG1Z5VebEzy6",
        "colab_type": "code",
        "outputId": "675afc34-b229-4cb8-f8c2-04d4b096ec3c",
        "colab": {
          "base_uri": "https://localhost:8080/",
          "height": 51
        }
      },
      "source": [
        "import numpy as np\n",
        "labels_test=[x.argmax() for x in y_test[::1,:]]\n",
        "type(labels_test)\n",
        "print(labels_test[:5])\n",
        "\n",
        "ypred=themodel.predict(x_test)\n",
        "pred_labels=[x.argmax() for x in ypred[::1,:]]\n",
        "pred_labels[:5]"
      ],
      "execution_count": 24,
      "outputs": [
        {
          "output_type": "stream",
          "text": [
            "[3, 8, 8, 0, 6]\n"
          ],
          "name": "stdout"
        },
        {
          "output_type": "execute_result",
          "data": {
            "text/plain": [
              "[3, 8, 8, 8, 6]"
            ]
          },
          "metadata": {
            "tags": []
          },
          "execution_count": 24
        }
      ]
    },
    {
      "cell_type": "code",
      "metadata": {
        "id": "rDeIQp-cEgkq",
        "colab_type": "code",
        "outputId": "190644fd-9041-44c6-d1e7-ec0458faa66b",
        "colab": {
          "base_uri": "https://localhost:8080/",
          "height": 306
        }
      },
      "source": [
        "#metrics report\n",
        "from sklearn.metrics import classification_report\n",
        "crpt=classification_report(labels_test,pred_labels)\n",
        "print(crpt)"
      ],
      "execution_count": 25,
      "outputs": [
        {
          "output_type": "stream",
          "text": [
            "              precision    recall  f1-score   support\n",
            "\n",
            "           0       0.83      0.86      0.85      1000\n",
            "           1       0.93      0.92      0.92      1000\n",
            "           2       0.87      0.68      0.76      1000\n",
            "           3       0.72      0.70      0.71      1000\n",
            "           4       0.83      0.81      0.82      1000\n",
            "           5       0.81      0.75      0.78      1000\n",
            "           6       0.76      0.95      0.85      1000\n",
            "           7       0.89      0.87      0.88      1000\n",
            "           8       0.85      0.93      0.89      1000\n",
            "           9       0.90      0.90      0.90      1000\n",
            "\n",
            "    accuracy                           0.84     10000\n",
            "   macro avg       0.84      0.84      0.84     10000\n",
            "weighted avg       0.84      0.84      0.84     10000\n",
            "\n"
          ],
          "name": "stdout"
        }
      ]
    },
    {
      "cell_type": "code",
      "metadata": {
        "id": "qU0giP-gGJmG",
        "colab_type": "code",
        "outputId": "a2d5e17b-625c-4497-ee68-363f5b975bde",
        "colab": {
          "base_uri": "https://localhost:8080/",
          "height": 298
        }
      },
      "source": [
        "#confusion matrix and heatmap plot and matshow plot\n",
        "from sklearn.metrics import confusion_matrix\n",
        "import seaborn as sn\n",
        "mx=confusion_matrix(labels_test, pred_labels)\n",
        "print((np.array(pred_labels)==np.array(labels_test)).mean())\n",
        "f=plt.figure()\n",
        "sn.heatmap(mx/100, annot=True, cmap=plt.cm.Blues) #plot percent, total 10k test labels\n",
        "plt.xticks(ticks=range(10))\n",
        "plt.title('Percentage')\n",
        "plt.show()"
      ],
      "execution_count": 26,
      "outputs": [
        {
          "output_type": "stream",
          "text": [
            "0.8379\n"
          ],
          "name": "stdout"
        },
        {
          "output_type": "display_data",
          "data": {
            "image/png": "[encoded data removed]",
            "text/plain": [
              "<Figure size 432x288 with 2 Axes>"
            ]
          },
          "metadata": {
            "tags": []
          }
        }
      ]
    },
    {
      "cell_type": "code",
      "metadata": {
        "id": "ZgabIh4PGvsm",
        "colab_type": "code",
        "colab": {}
      },
      "source": [
        ""
      ],
      "execution_count": 0,
      "outputs": []
    }
  ]
}