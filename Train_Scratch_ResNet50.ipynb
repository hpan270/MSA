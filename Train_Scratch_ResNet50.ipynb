{
  "nbformat": 4,
  "nbformat_minor": 0,
  "metadata": {
    "colab": {
      "name": "Train_Scratch_ResNet50.ipynb",
      "version": "0.3.2",
      "provenance": [],
      "collapsed_sections": [],
      "include_colab_link": true
    },
    "kernelspec": {
      "name": "python3",
      "display_name": "Python 3"
    },
    "accelerator": "GPU"
  },
  "cells": [
    {
      "cell_type": "markdown",
      "metadata": {
        "id": "view-in-github",
        "colab_type": "text"
      },
      "source": [
        "<a href=\"https://colab.research.google.com/github/hpan270/MSA/blob/master/Train_Scratch_ResNet50.ipynb\" target=\"_parent\"><img src=\"https://colab.research.google.com/assets/colab-badge.svg\" alt=\"Open In Colab\"/></a>"
      ]
    },
    {
      "cell_type": "markdown",
      "metadata": {
        "id": "xcZRRdOuFHtR",
        "colab_type": "text"
      },
      "source": [
        "### Train the ResNet50 with CIFAR10 Images from scratch\n",
        "- All layer2 in ResNet50 is trainable\n",
        "- UpSampling2D() for input\n",
        "- BatchNormalization() in full connected layers  \n",
        "#### After 5 epoch, the test accuracy is 0.9878\n",
        "- refer to https://medium.com/@andrew.dabydeen/transfer-learning-using-resnet50-and-cifar-10-6242ed4b4245\n",
        "- refer to https://github.com/frlim/data2040_final/blob/master/project_2/CNN_Final.ipynb\n"
      ]
    },
    {
      "cell_type": "code",
      "metadata": {
        "id": "jildWPZgt93t",
        "colab_type": "code",
        "colab": {
          "base_uri": "https://localhost:8080/",
          "height": 34
        },
        "outputId": "e01fa508-accb-4d8e-ef85-138563fc0fd3"
      },
      "source": [
        "from tensorflow.keras.applications.resnet50 import ResNet50, preprocess_input\n",
        "import tensorflow.keras as keras\n",
        "from tensorflow.keras import models\n",
        "from tensorflow.keras import layers\n",
        "from tensorflow.keras import optimizers\n",
        "import tensorflow as tf\n",
        "from keras.utils import np_utils\n",
        "from keras.models import load_model\n",
        "from keras.datasets import cifar10\n",
        "from keras.preprocessing import image\n",
        "import numpy as np\n",
        "import matplotlib.pyplot as plt\n",
        "from PIL import Image\n",
        "import cv2"
      ],
      "execution_count": 1,
      "outputs": [
        {
          "output_type": "stream",
          "text": [
            "Using TensorFlow backend.\n"
          ],
          "name": "stderr"
        }
      ]
    },
    {
      "cell_type": "code",
      "metadata": {
        "id": "2g4ta3XEuI43",
        "colab_type": "code",
        "colab": {
          "base_uri": "https://localhost:8080/",
          "height": 76
        },
        "outputId": "49a77c3c-4114-4036-d0cd-4a73deedea95"
      },
      "source": [
        "conv_base = ResNet50(weights='imagenet', include_top=False, input_shape=(200, 200, 3))\n"
      ],
      "execution_count": 2,
      "outputs": [
        {
          "output_type": "stream",
          "text": [
            "/usr/local/lib/python3.6/dist-packages/keras_applications/resnet50.py:265: UserWarning: The output shape of `ResNet50(include_top=False)` has been changed since Keras 2.2.0.\n",
            "  warnings.warn('The output shape of `ResNet50(include_top=False)` '\n"
          ],
          "name": "stderr"
        }
      ]
    },
    {
      "cell_type": "code",
      "metadata": {
        "id": "WDduMdThuJkq",
        "colab_type": "code",
        "colab": {
          "base_uri": "https://localhost:8080/",
          "height": 51
        },
        "outputId": "2167ae16-08b1-4d5e-d3e0-3d9234aa095e"
      },
      "source": [
        "(x_train, y_train), (x_test, y_test) = cifar10.load_data()\n",
        "\n",
        "x_train = x_train / 255.0\n",
        "x_test = x_test / 255.0\n",
        "\n",
        "y_train = np_utils.to_categorical(y_train, 10)\n",
        "y_test = np_utils.to_categorical(y_test, 10)\n",
        "\n",
        "print(x_train.shape)\n",
        "print(x_test.shape)"
      ],
      "execution_count": 3,
      "outputs": [
        {
          "output_type": "stream",
          "text": [
            "(50000, 32, 32, 3)\n",
            "(10000, 32, 32, 3)\n"
          ],
          "name": "stdout"
        }
      ]
    },
    {
      "cell_type": "code",
      "metadata": {
        "id": "oOwENL_DD5ns",
        "colab_type": "code",
        "colab": {
          "base_uri": "https://localhost:8080/",
          "height": 51
        },
        "outputId": "0a2f1ae6-1e6b-48bd-d500-cbe5ff1218dc"
      },
      "source": [
        "print(conv_base.trainable)\n",
        "lyt=[ly.trainable for ly in conv_base.layers]\n",
        "(np.array(lyt)==True).all()"
      ],
      "execution_count": 19,
      "outputs": [
        {
          "output_type": "stream",
          "text": [
            "True\n"
          ],
          "name": "stdout"
        },
        {
          "output_type": "execute_result",
          "data": {
            "text/plain": [
              "True"
            ]
          },
          "metadata": {
            "tags": []
          },
          "execution_count": 19
        }
      ]
    },
    {
      "cell_type": "code",
      "metadata": {
        "id": "3Z_-ttx7uOF9",
        "colab_type": "code",
        "colab": {
          "base_uri": "https://localhost:8080/",
          "height": 1000
        },
        "outputId": "ce199a6f-8bb0-4564-896c-ab6b2b139bbc"
      },
      "source": [
        "model = models.Sequential()\n",
        "model.add(layers.UpSampling2D((2,2)))\n",
        "model.add(layers.UpSampling2D((2,2)))\n",
        "model.add(layers.UpSampling2D((2,2)))\n",
        "model.add(conv_base)\n",
        "model.add(layers.Flatten())\n",
        "model.add(layers.BatchNormalization())\n",
        "model.add(layers.Dense(128, activation='relu'))\n",
        "model.add(layers.Dropout(0.5))\n",
        "model.add(layers.BatchNormalization())\n",
        "model.add(layers.Dense(64, activation='relu'))\n",
        "model.add(layers.Dropout(0.5))\n",
        "model.add(layers.BatchNormalization())\n",
        "model.add(layers.Dense(10, activation='softmax'))\n",
        "\n",
        "model.compile(optimizer=optimizers.RMSprop(lr=2e-5), loss='binary_crossentropy', metrics=['acc'])\n",
        "\n",
        "history = model.fit(x_train, y_train, epochs=5, batch_size=20, validation_data=(x_test, y_test))"
      ],
      "execution_count": 4,
      "outputs": [
        {
          "output_type": "stream",
          "text": [
            "WARNING: Logging before flag parsing goes to stderr.\n",
            "W0815 00:42:29.602840 140593514502016 deprecation.py:506] From /usr/local/lib/python3.6/dist-packages/tensorflow/python/ops/init_ops.py:1251: calling VarianceScaling.__init__ (from tensorflow.python.ops.init_ops) with dtype is deprecated and will be removed in a future version.\n",
            "Instructions for updating:\n",
            "Call initializer instance with the dtype argument instead of passing it to the constructor\n",
            "W0815 00:42:32.111951 140593514502016 deprecation.py:323] From /usr/local/lib/python3.6/dist-packages/tensorflow/python/ops/math_grad.py:1250: add_dispatch_support.<locals>.wrapper (from tensorflow.python.ops.array_ops) is deprecated and will be removed in a future version.\n",
            "Instructions for updating:\n",
            "Use tf.where in 2.0, which has the same broadcast rule as np.where\n"
          ],
          "name": "stderr"
        },
        {
          "output_type": "stream",
          "text": [
            "Train on 50000 samples, validate on 10000 samples\n",
            "Epoch 1/5\n",
            "50000/50000 [==============================] - 867s 17ms/sample - loss: 0.2486 - acc: 0.9125 - val_loss: 0.1169 - val_acc: 0.9579\n",
            "Epoch 2/5\n",
            "50000/50000 [==============================] - 864s 17ms/sample - loss: 0.1573 - acc: 0.9434 - val_loss: 0.0713 - val_acc: 0.9758\n",
            "Epoch 3/5\n",
            "50000/50000 [==============================] - 866s 17ms/sample - loss: 0.1189 - acc: 0.9598 - val_loss: 0.0503 - val_acc: 0.9839\n",
            "Epoch 4/5\n",
            "50000/50000 [==============================] - 862s 17ms/sample - loss: 0.0943 - acc: 0.9696 - val_loss: 0.0437 - val_acc: 0.9863\n",
            "Epoch 5/5\n",
            "50000/50000 [==============================] - 862s 17ms/sample - loss: 0.0751 - acc: 0.9770 - val_loss: 0.0384 - val_acc: 0.9878\n"
          ],
          "name": "stdout"
        }
      ]
    },
    {
      "cell_type": "code",
      "metadata": {
        "id": "P1QlKbY_DNG5",
        "colab_type": "code",
        "colab": {
          "base_uri": "https://localhost:8080/",
          "height": 68
        },
        "outputId": "8a8e8d3e-4279-4ac1-deb5-7dc023418f4d"
      },
      "source": [
        "scores = model.evaluate(x_test, y_test, verbose=1)\n",
        "print('Test loss:', scores[0])\n",
        "print('Test accuracy:', scores[1])"
      ],
      "execution_count": 5,
      "outputs": [
        {
          "output_type": "stream",
          "text": [
            "10000/10000 [==============================] - 40s 4ms/sample - loss: 0.0384 - acc: 0.9878\n",
            "Test loss: 0.03843357466459274\n",
            "Test accuracy: 0.98781985\n"
          ],
          "name": "stdout"
        }
      ]
    },
    {
      "cell_type": "code",
      "metadata": {
        "id": "SLgR1bawDYbg",
        "colab_type": "code",
        "colab": {}
      },
      "source": [
        "history.history.keys()\n",
        "type(history.history)\n",
        "history.history['acc']\n",
        "import pandas as pd\n",
        "hist_df = pd.DataFrame(history.history) \n",
        "hist_df.head()\n",
        "model.save('train_res50_e5.h5')\n",
        "hist_df.to_csv('train_res50_e5.csv')"
      ],
      "execution_count": 0,
      "outputs": []
    },
    {
      "cell_type": "code",
      "metadata": {
        "id": "dNjxs_NGDrMx",
        "colab_type": "code",
        "colab": {
          "base_uri": "https://localhost:8080/",
          "height": 404
        },
        "outputId": "043fda67-647e-444c-883d-53b43e0404ba"
      },
      "source": [
        "import matplotlib.pylab as plt\n",
        "f=plt.figure(figsize=[12,6])\n",
        "plt.subplot(1,2,1)\n",
        "plt.plot(history.epoch, history.history['acc'],'-o', label='Train Acc')\n",
        "plt.plot(history.epoch, history.history['val_acc'],'-o',label='Validation Acc')  \n",
        "plt.title(\"Accuracy\")\n",
        "plt.xlabel(\"Epochs\")\n",
        "plt.grid()\n",
        "plt.legend(loc='best')\n",
        "plt.subplot(1,2,2)\n",
        "plt.plot(history.epoch, history.history['loss'],':o', label='Train Loss')\n",
        "plt.plot(history.epoch, history.history['val_loss'],':o',label='Validation Loss')  \n",
        "plt.title(\"Loss\")\n",
        "plt.xlabel(\"Epochs\")\n",
        "plt.grid()\n",
        "plt.legend(loc='best')\n",
        "f.savefig('train_res50_e5.png')"
      ],
      "execution_count": 7,
      "outputs": [
        {
          "output_type": "display_data",
          "data": {
            "image/png": "[encoded data removed]",
            "text/plain": [
              "<Figure size 864x432 with 2 Axes>"
            ]
          },
          "metadata": {
            "tags": []
          }
        }
      ]
    }
  ]
}