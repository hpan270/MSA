{
  "nbformat": 4,
  "nbformat_minor": 0,
  "metadata": {
    "colab": {
      "name": "Train_Scratch_ResNet50.ipynb",
      "version": "0.3.2",
      "provenance": [],
      "collapsed_sections": [],
      "include_colab_link": true
    },
    "kernelspec": {
      "name": "python3",
      "display_name": "Python 3"
    },
    "accelerator": "GPU"
  },
  "cells": [
    {
      "cell_type": "markdown",
      "metadata": {
        "id": "view-in-github",
        "colab_type": "text"
      },
      "source": [
        "<a href=\"https://colab.research.google.com/github/hpan270/MSA/blob/master/Train_Scratch_ResNet50.ipynb\" target=\"_parent\"><img src=\"https://colab.research.google.com/assets/colab-badge.svg\" alt=\"Open In Colab\"/></a>"
      ]
    },
    {
      "cell_type": "markdown",
      "metadata": {
        "id": "xcZRRdOuFHtR",
        "colab_type": "text"
      },
      "source": [
        "### Train the ResNet50  from scratch on CIFAR10 Images\n",
        "- All layer2 in ResNet50 is trainable\n",
        "- UpSampling2D() for input\n",
        "- BatchNormalization() in full connected layers  \n",
        "#### After 5 epoch, the train_acc=0.8745, val_acc=0.9328, test_acc (score)=0.933\n",
        "- refer to https://medium.com/@andrew.dabydeen/transfer-learning-using-resnet50-and-cifar-10-6242ed4b4245\n",
        "- refer to https://github.com/frlim/data2040_final/blob/master/project_2/CNN_Final.ipynb\n"
      ]
    },
    {
      "cell_type": "code",
      "metadata": {
        "id": "jildWPZgt93t",
        "colab_type": "code",
        "outputId": "47bb023e-7b5d-4649-bf95-96abde1a0304",
        "colab": {
          "base_uri": "https://localhost:8080/",
          "height": 34
        }
      },
      "source": [
        "from tensorflow.keras.applications.resnet50 import ResNet50, preprocess_input\n",
        "import tensorflow.keras as keras\n",
        "from tensorflow.keras import models\n",
        "from tensorflow.keras import layers\n",
        "from tensorflow.keras import optimizers\n",
        "import tensorflow as tf\n",
        "from keras.utils import np_utils\n",
        "from keras.models import load_model\n",
        "from keras.datasets import cifar10\n",
        "from keras.preprocessing import image\n",
        "import numpy as np\n",
        "import matplotlib.pyplot as plt\n",
        "from PIL import Image\n",
        "import cv2"
      ],
      "execution_count": 1,
      "outputs": [
        {
          "output_type": "stream",
          "text": [
            "Using TensorFlow backend.\n"
          ],
          "name": "stderr"
        }
      ]
    },
    {
      "cell_type": "code",
      "metadata": {
        "id": "2g4ta3XEuI43",
        "colab_type": "code",
        "outputId": "a8155676-7e5c-4596-aeb5-5e0bdfbbcebc",
        "colab": {
          "base_uri": "https://localhost:8080/",
          "height": 101
        }
      },
      "source": [
        "conv_base = ResNet50(weights='imagenet', include_top=False, input_shape=(200, 200, 3))\n"
      ],
      "execution_count": 2,
      "outputs": [
        {
          "output_type": "stream",
          "text": [
            "/usr/local/lib/python3.6/dist-packages/keras_applications/resnet50.py:265: UserWarning: The output shape of `ResNet50(include_top=False)` has been changed since Keras 2.2.0.\n",
            "  warnings.warn('The output shape of `ResNet50(include_top=False)` '\n"
          ],
          "name": "stderr"
        }
      ]
    },
    {
      "cell_type": "code",
      "metadata": {
        "id": "WDduMdThuJkq",
        "colab_type": "code",
        "outputId": "0ece86ac-101a-415d-84a4-494a5ed4c5e9",
        "colab": {
          "base_uri": "https://localhost:8080/",
          "height": 68
        }
      },
      "source": [
        "(X, Y), (x_test, y_test) = cifar10.load_data()\n",
        "\n",
        "X = X / 255.0\n",
        "x_test = x_test / 255.0\n",
        "\n",
        "Y = np_utils.to_categorical(Y, 10)\n",
        "y_test = np_utils.to_categorical(y_test, 10)\n",
        "\n",
        "from sklearn.model_selection import train_test_split\n",
        "x_train, x_validation, y_train, y_validation = train_test_split(X, Y, test_size=0.2, random_state=100)\n",
        "\n",
        "print(x_train.shape)\n",
        "print(x_validation.shape)\n",
        "print(x_test.shape)"
      ],
      "execution_count": 3,
      "outputs": [
        {
          "output_type": "stream",
          "text": [
            "(40000, 32, 32, 3)\n",
            "(10000, 32, 32, 3)\n",
            "(10000, 32, 32, 3)\n"
          ],
          "name": "stdout"
        }
      ]
    },
    {
      "cell_type": "code",
      "metadata": {
        "id": "oOwENL_DD5ns",
        "colab_type": "code",
        "outputId": "bb07ee9f-b2e2-47f4-8e6f-0905401f5a25",
        "colab": {
          "base_uri": "https://localhost:8080/",
          "height": 51
        }
      },
      "source": [
        "print(conv_base.trainable)\n",
        "lyt=[ly.trainable for ly in conv_base.layers]\n",
        "(np.array(lyt)==True).all()"
      ],
      "execution_count": 4,
      "outputs": [
        {
          "output_type": "stream",
          "text": [
            "True\n"
          ],
          "name": "stdout"
        },
        {
          "output_type": "execute_result",
          "data": {
            "text/plain": [
              "True"
            ]
          },
          "metadata": {
            "tags": []
          },
          "execution_count": 4
        }
      ]
    },
    {
      "cell_type": "code",
      "metadata": {
        "id": "3Z_-ttx7uOF9",
        "colab_type": "code",
        "outputId": "6c76e111-63f7-4bb2-d367-d805f3e691dd",
        "colab": {
          "base_uri": "https://localhost:8080/",
          "height": 1000
        }
      },
      "source": [
        "model = models.Sequential()\n",
        "model.add(layers.UpSampling2D((2,2)))\n",
        "model.add(layers.UpSampling2D((2,2)))\n",
        "model.add(layers.UpSampling2D((2,2)))\n",
        "model.add(conv_base)\n",
        "model.add(layers.Flatten())\n",
        "model.add(layers.BatchNormalization())\n",
        "model.add(layers.Dense(128, activation='relu'))\n",
        "model.add(layers.Dropout(0.5))\n",
        "model.add(layers.BatchNormalization())\n",
        "model.add(layers.Dense(64, activation='relu'))\n",
        "model.add(layers.Dropout(0.5))\n",
        "model.add(layers.BatchNormalization())\n",
        "model.add(layers.Dense(10, activation='softmax'))\n",
        "\n",
        "model.compile(optimizer=optimizers.RMSprop(lr=2e-5), loss='categorical_crossentropy', metrics=['acc'])\n",
        "\n",
        "history = model.fit(x_train, y_train, epochs=5, batch_size=20, validation_data=(x_validation, y_validation))"
      ],
      "execution_count": 5,
      "outputs": [
        {
          "output_type": "stream",
          "text": [
            "WARNING: Logging before flag parsing goes to stderr.\n",
            "W0815 23:41:04.116123 140487879018368 deprecation.py:506] From /usr/local/lib/python3.6/dist-packages/tensorflow/python/ops/init_ops.py:1251: calling VarianceScaling.__init__ (from tensorflow.python.ops.init_ops) with dtype is deprecated and will be removed in a future version.\n",
            "Instructions for updating:\n",
            "Call initializer instance with the dtype argument instead of passing it to the constructor\n"
          ],
          "name": "stderr"
        },
        {
          "output_type": "stream",
          "text": [
            "Train on 40000 samples, validate on 10000 samples\n",
            "Epoch 1/5\n",
            "40000/40000 [==============================] - 1524s 38ms/sample - loss: 1.7121 - acc: 0.4302 - val_loss: 0.7679 - val_acc: 0.7863\n",
            "Epoch 2/5\n",
            "40000/40000 [==============================] - 1515s 38ms/sample - loss: 1.0854 - acc: 0.6724 - val_loss: 0.4819 - val_acc: 0.8827\n",
            "Epoch 3/5\n",
            "40000/40000 [==============================] - 1517s 38ms/sample - loss: 0.8181 - acc: 0.7750 - val_loss: 0.3700 - val_acc: 0.9088\n",
            "Epoch 4/5\n",
            "40000/40000 [==============================] - 1520s 38ms/sample - loss: 0.6563 - acc: 0.8355 - val_loss: 0.2892 - val_acc: 0.9248\n",
            "Epoch 5/5\n",
            "40000/40000 [==============================] - 1519s 38ms/sample - loss: 0.5309 - acc: 0.8745 - val_loss: 0.2535 - val_acc: 0.9328\n"
          ],
          "name": "stdout"
        }
      ]
    },
    {
      "cell_type": "code",
      "metadata": {
        "id": "P1QlKbY_DNG5",
        "colab_type": "code",
        "outputId": "b3ebbd52-8671-404b-bf7e-df4dbff0c060",
        "colab": {
          "base_uri": "https://localhost:8080/",
          "height": 68
        }
      },
      "source": [
        "scores = model.evaluate(x_test, y_test, verbose=1)\n",
        "print('Test loss:', scores[0])\n",
        "print('Test accuracy:', scores[1])"
      ],
      "execution_count": 6,
      "outputs": [
        {
          "output_type": "stream",
          "text": [
            "10000/10000 [==============================] - 94s 9ms/sample - loss: 0.2560 - acc: 0.9330\n",
            "Test loss: 0.2559724878549576\n",
            "Test accuracy: 0.933\n"
          ],
          "name": "stdout"
        }
      ]
    },
    {
      "cell_type": "code",
      "metadata": {
        "id": "SLgR1bawDYbg",
        "colab_type": "code",
        "colab": {}
      },
      "source": [
        "history.history.keys()\n",
        "type(history.history)\n",
        "history.history['acc']\n",
        "import pandas as pd\n",
        "hist_df = pd.DataFrame(history.history) \n",
        "hist_df.head()\n",
        "model.save('scratch_resnet50.h5')\n",
        "hist_df.to_csv('scratch_resnet50.csv')"
      ],
      "execution_count": 0,
      "outputs": []
    },
    {
      "cell_type": "code",
      "metadata": {
        "id": "dNjxs_NGDrMx",
        "colab_type": "code",
        "outputId": "5f79ff9b-85fe-44c3-f704-e102bc043a80",
        "colab": {
          "base_uri": "https://localhost:8080/",
          "height": 404
        }
      },
      "source": [
        "import matplotlib.pylab as plt\n",
        "f=plt.figure(figsize=[12,6])\n",
        "plt.subplot(1,2,1)\n",
        "plt.plot(history.epoch, history.history['acc'],'-o', label='Train Acc')\n",
        "plt.plot(history.epoch, history.history['val_acc'],'-o',label='Validation Acc')  \n",
        "plt.title(\"Accuracy\")\n",
        "plt.xlabel(\"Epochs\")\n",
        "plt.grid()\n",
        "plt.legend(loc='best')\n",
        "plt.subplot(1,2,2)\n",
        "plt.plot(history.epoch, history.history['loss'],':o', label='Train Loss')\n",
        "plt.plot(history.epoch, history.history['val_loss'],':o',label='Validation Loss')  \n",
        "plt.title(\"Loss\")\n",
        "plt.xlabel(\"Epochs\")\n",
        "plt.grid()\n",
        "plt.legend(loc='best')\n",
        "f.savefig('scratch_resnet50.png')"
      ],
      "execution_count": 8,
      "outputs": [
        {
          "output_type": "display_data",
          "data": {
            "image/png": "[encoded data removed]",
            "text/plain": [
              "<Figure size 864x432 with 2 Axes>"
            ]
          },
          "metadata": {
            "tags": []
          }
        }
      ]
    },
    {
      "cell_type": "code",
      "metadata": {
        "id": "hVZTjxFkCIN9",
        "colab_type": "code",
        "colab": {
          "base_uri": "https://localhost:8080/",
          "height": 442
        },
        "outputId": "67dbbcbc-eca8-4b00-aef6-778f4e7245fd"
      },
      "source": [
        "from google.colab import files\n",
        "\n",
        "files.download('scratch_resnet50.csv')\n",
        "files.download('scratch_resnet50.png')\n",
        "files.download('scratch_resnet50.h5')"
      ],
      "execution_count": 10,
      "outputs": [
        {
          "output_type": "stream",
          "text": [
            "----------------------------------------\n",
            "Exception happened during processing of request from ('::ffff:127.0.0.1', 36490, 0, 0)\n",
            "Traceback (most recent call last):\n",
            "  File \"/usr/lib/python3.6/socketserver.py\", line 320, in _handle_request_noblock\n",
            "    self.process_request(request, client_address)\n",
            "  File \"/usr/lib/python3.6/socketserver.py\", line 351, in process_request\n",
            "    self.finish_request(request, client_address)\n",
            "  File \"/usr/lib/python3.6/socketserver.py\", line 364, in finish_request\n",
            "    self.RequestHandlerClass(request, client_address, self)\n",
            "  File \"/usr/lib/python3.6/socketserver.py\", line 724, in __init__\n",
            "    self.handle()\n",
            "  File \"/usr/lib/python3.6/http/server.py\", line 418, in handle\n",
            "    self.handle_one_request()\n",
            "  File \"/usr/lib/python3.6/http/server.py\", line 406, in handle_one_request\n",
            "    method()\n",
            "  File \"/usr/lib/python3.6/http/server.py\", line 639, in do_GET\n",
            "    self.copyfile(f, self.wfile)\n",
            "  File \"/usr/lib/python3.6/http/server.py\", line 800, in copyfile\n",
            "    shutil.copyfileobj(source, outputfile)\n",
            "  File \"/usr/lib/python3.6/shutil.py\", line 82, in copyfileobj\n",
            "    fdst.write(buf)\n",
            "  File \"/usr/lib/python3.6/socketserver.py\", line 803, in write\n",
            "    self._sock.sendall(b)\n",
            "ConnectionResetError: [Errno 104] Connection reset by peer\n",
            "----------------------------------------\n"
          ],
          "name": "stderr"
        }
      ]
    }
  ]
}