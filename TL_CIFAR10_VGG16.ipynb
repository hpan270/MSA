{
  "nbformat": 4,
  "nbformat_minor": 0,
  "metadata": {
    "kernelspec": {
      "name": "python3",
      "display_name": "Python 3"
    },
    "colab": {
      "name": "TL_CIFAR10_VGG16.ipynb",
      "version": "0.3.2",
      "provenance": [],
      "collapsed_sections": [],
      "machine_shape": "hm",
      "include_colab_link": true
    },
    "accelerator": "GPU"
  },
  "cells": [
    {
      "cell_type": "markdown",
      "metadata": {
        "id": "view-in-github",
        "colab_type": "text"
      },
      "source": [
        "<a href=\"https://colab.research.google.com/github/hpan270/MSA/blob/master/TL_CIFAR10_VGG16.ipynb\" target=\"_parent\"><img src=\"https://colab.research.google.com/assets/colab-badge.svg\" alt=\"Open In Colab\"/></a>"
      ]
    },
    {
      "cell_type": "markdown",
      "metadata": {
        "id": "cLxU8EgXa-B1",
        "colab_type": "text"
      },
      "source": [
        "### transfer learning vgg16\n",
        "- set trainable on block4_conv1 and block5_conv1\n",
        "- use data augmentation\n",
        "- after 10 epochs, acc=0.8687, val_acc=0.8005, score(test_acc)=0.5494\n",
        "  \n",
        "refer to https://towardsdatascience.com/a-comprehensive-hands-on-guide-to-transfer-learning-with-real-world-applications-in-deep-learning-212bf3b2f27a"
      ]
    },
    {
      "cell_type": "code",
      "metadata": {
        "ExecuteTime": {
          "start_time": "2019-08-14T08:46:27.363838Z",
          "end_time": "2019-08-14T08:50:22.145597Z"
        },
        "trusted": true,
        "id": "KfpgPy4ia-DC",
        "colab_type": "code",
        "outputId": "ced84894-87d4-403d-d13a-a41232705798",
        "colab": {
          "base_uri": "https://localhost:8080/",
          "height": 85
        }
      },
      "source": [
        "from keras.datasets import cifar10\n",
        "from keras.utils import np_utils\n",
        "import keras\n",
        "num_classes=10\n",
        "input_shape = (32, 32, 3)\n",
        "# The data, split between train and test sets:\n",
        "(X, Y), (x_test, y_test) = cifar10.load_data()\n",
        "\n",
        "#Will be data scale when augmentation\n",
        "# X = X / 255.0\n",
        "# x_test = x_test / 255.0\n",
        "\n",
        "# Convert class vectors to binary class matrices.\n",
        "Y = np_utils.to_categorical(Y, 10)\n",
        "y_test = np_utils.to_categorical(y_test, 10)\n",
        "\n",
        "from sklearn.model_selection import train_test_split\n",
        "x_train, x_validation, y_train, y_validation = train_test_split(X, Y, test_size=0.2, random_state=100)\n",
        "\n",
        "\n",
        "print('x_train shape:', x_train.shape)\n",
        "print(x_train.shape[0], 'train samples')\n",
        "print(x_test.shape[0], 'test samples')\n",
        "print(x_validation.shape, 'validation shape')\n"
      ],
      "execution_count": 7,
      "outputs": [
        {
          "output_type": "stream",
          "text": [
            "x_train shape: (40000, 32, 32, 3)\n",
            "40000 train samples\n",
            "10000 test samples\n",
            "(10000, 32, 32, 3) validation shape\n"
          ],
          "name": "stdout"
        }
      ]
    },
    {
      "cell_type": "code",
      "metadata": {
        "id": "zF7eMceBc0gD",
        "colab_type": "code",
        "outputId": "5785e9d1-97b6-4ee6-9d5d-b3ef60a03512",
        "colab": {
          "base_uri": "https://localhost:8080/",
          "height": 102
        }
      },
      "source": [
        "x_train[:1,:2,:2,:] # not scaled yet"
      ],
      "execution_count": 8,
      "outputs": [
        {
          "output_type": "execute_result",
          "data": {
            "text/plain": [
              "array([[[[138, 140, 141],\n",
              "         [ 75,  75,  70]],\n",
              "\n",
              "        [[ 75,  79,  62],\n",
              "         [ 58,  60,  42]]]], dtype=uint8)"
            ]
          },
          "metadata": {
            "tags": []
          },
          "execution_count": 8
        }
      ]
    },
    {
      "cell_type": "code",
      "metadata": {
        "ExecuteTime": {
          "start_time": "2019-08-14T08:50:30.338944Z",
          "end_time": "2019-08-14T08:50:47.368771Z"
        },
        "trusted": true,
        "id": "BPYNw_PFa-Dg",
        "colab_type": "code",
        "colab": {}
      },
      "source": [
        "from keras.applications import vgg16\n",
        "from keras.models import Model\n",
        "import keras\n",
        "\n",
        "vgg = vgg16.VGG16(include_top=False, weights='imagenet', \n",
        "                                     input_shape=input_shape)\n",
        "\n",
        "output = vgg.layers[-1].output\n",
        "output = keras.layers.Flatten()(output)\n",
        "vgg_model = Model(vgg.input, output)\n",
        "\n",
        "vgg_model.trainable = False\n",
        "for layer in vgg_model.layers:\n",
        "    layer.trainable = False\n",
        "    \n",
        "import pandas as pd\n",
        "  "
      ],
      "execution_count": 0,
      "outputs": []
    },
    {
      "cell_type": "code",
      "metadata": {
        "ExecuteTime": {
          "start_time": "2019-08-14T08:51:49.556255Z",
          "end_time": "2019-08-14T08:51:49.620422Z"
        },
        "trusted": true,
        "id": "R7VlWblGa-Dn",
        "colab_type": "code",
        "outputId": "32a58b5f-17d1-4173-bee0-e3fb020b1264",
        "colab": {
          "base_uri": "https://localhost:8080/",
          "height": 669
        }
      },
      "source": [
        "vgg_model.trainable = True\n",
        "\n",
        "set_trainable = False\n",
        "for layer in vgg_model.layers:\n",
        "    if layer.name in ['block5_conv1', 'block4_conv1']:\n",
        "        set_trainable = True\n",
        "    if set_trainable:\n",
        "        layer.trainable = True\n",
        "    else:\n",
        "        layer.trainable = False\n",
        "        \n",
        "layers = [(layer, layer.name, layer.trainable) for layer in vgg_model.layers]\n",
        "pd.DataFrame(layers, columns=['Layer Type', 'Layer Name', 'Layer Trainable'])   "
      ],
      "execution_count": 10,
      "outputs": [
        {
          "output_type": "execute_result",
          "data": {
            "text/html": [
              "<div>\n",
              "<style scoped>\n",
              "    .dataframe tbody tr th:only-of-type {\n",
              "        vertical-align: middle;\n",
              "    }\n",
              "\n",
              "    .dataframe tbody tr th {\n",
              "        vertical-align: top;\n",
              "    }\n",
              "\n",
              "    .dataframe thead th {\n",
              "        text-align: right;\n",
              "    }\n",
              "</style>\n",
              "<table border=\"1\" class=\"dataframe\">\n",
              "  <thead>\n",
              "    <tr style=\"text-align: right;\">\n",
              "      <th></th>\n",
              "      <th>Layer Type</th>\n",
              "      <th>Layer Name</th>\n",
              "      <th>Layer Trainable</th>\n",
              "    </tr>\n",
              "  </thead>\n",
              "  <tbody>\n",
              "    <tr>\n",
              "      <th>0</th>\n",
              "      <td>&lt;keras.engine.input_layer.InputLayer object at...</td>\n",
              "      <td>input_2</td>\n",
              "      <td>False</td>\n",
              "    </tr>\n",
              "    <tr>\n",
              "      <th>1</th>\n",
              "      <td>&lt;keras.layers.convolutional.Conv2D object at 0...</td>\n",
              "      <td>block1_conv1</td>\n",
              "      <td>False</td>\n",
              "    </tr>\n",
              "    <tr>\n",
              "      <th>2</th>\n",
              "      <td>&lt;keras.layers.convolutional.Conv2D object at 0...</td>\n",
              "      <td>block1_conv2</td>\n",
              "      <td>False</td>\n",
              "    </tr>\n",
              "    <tr>\n",
              "      <th>3</th>\n",
              "      <td>&lt;keras.layers.pooling.MaxPooling2D object at 0...</td>\n",
              "      <td>block1_pool</td>\n",
              "      <td>False</td>\n",
              "    </tr>\n",
              "    <tr>\n",
              "      <th>4</th>\n",
              "      <td>&lt;keras.layers.convolutional.Conv2D object at 0...</td>\n",
              "      <td>block2_conv1</td>\n",
              "      <td>False</td>\n",
              "    </tr>\n",
              "    <tr>\n",
              "      <th>5</th>\n",
              "      <td>&lt;keras.layers.convolutional.Conv2D object at 0...</td>\n",
              "      <td>block2_conv2</td>\n",
              "      <td>False</td>\n",
              "    </tr>\n",
              "    <tr>\n",
              "      <th>6</th>\n",
              "      <td>&lt;keras.layers.pooling.MaxPooling2D object at 0...</td>\n",
              "      <td>block2_pool</td>\n",
              "      <td>False</td>\n",
              "    </tr>\n",
              "    <tr>\n",
              "      <th>7</th>\n",
              "      <td>&lt;keras.layers.convolutional.Conv2D object at 0...</td>\n",
              "      <td>block3_conv1</td>\n",
              "      <td>False</td>\n",
              "    </tr>\n",
              "    <tr>\n",
              "      <th>8</th>\n",
              "      <td>&lt;keras.layers.convolutional.Conv2D object at 0...</td>\n",
              "      <td>block3_conv2</td>\n",
              "      <td>False</td>\n",
              "    </tr>\n",
              "    <tr>\n",
              "      <th>9</th>\n",
              "      <td>&lt;keras.layers.convolutional.Conv2D object at 0...</td>\n",
              "      <td>block3_conv3</td>\n",
              "      <td>False</td>\n",
              "    </tr>\n",
              "    <tr>\n",
              "      <th>10</th>\n",
              "      <td>&lt;keras.layers.pooling.MaxPooling2D object at 0...</td>\n",
              "      <td>block3_pool</td>\n",
              "      <td>False</td>\n",
              "    </tr>\n",
              "    <tr>\n",
              "      <th>11</th>\n",
              "      <td>&lt;keras.layers.convolutional.Conv2D object at 0...</td>\n",
              "      <td>block4_conv1</td>\n",
              "      <td>True</td>\n",
              "    </tr>\n",
              "    <tr>\n",
              "      <th>12</th>\n",
              "      <td>&lt;keras.layers.convolutional.Conv2D object at 0...</td>\n",
              "      <td>block4_conv2</td>\n",
              "      <td>True</td>\n",
              "    </tr>\n",
              "    <tr>\n",
              "      <th>13</th>\n",
              "      <td>&lt;keras.layers.convolutional.Conv2D object at 0...</td>\n",
              "      <td>block4_conv3</td>\n",
              "      <td>True</td>\n",
              "    </tr>\n",
              "    <tr>\n",
              "      <th>14</th>\n",
              "      <td>&lt;keras.layers.pooling.MaxPooling2D object at 0...</td>\n",
              "      <td>block4_pool</td>\n",
              "      <td>True</td>\n",
              "    </tr>\n",
              "    <tr>\n",
              "      <th>15</th>\n",
              "      <td>&lt;keras.layers.convolutional.Conv2D object at 0...</td>\n",
              "      <td>block5_conv1</td>\n",
              "      <td>True</td>\n",
              "    </tr>\n",
              "    <tr>\n",
              "      <th>16</th>\n",
              "      <td>&lt;keras.layers.convolutional.Conv2D object at 0...</td>\n",
              "      <td>block5_conv2</td>\n",
              "      <td>True</td>\n",
              "    </tr>\n",
              "    <tr>\n",
              "      <th>17</th>\n",
              "      <td>&lt;keras.layers.convolutional.Conv2D object at 0...</td>\n",
              "      <td>block5_conv3</td>\n",
              "      <td>True</td>\n",
              "    </tr>\n",
              "    <tr>\n",
              "      <th>18</th>\n",
              "      <td>&lt;keras.layers.pooling.MaxPooling2D object at 0...</td>\n",
              "      <td>block5_pool</td>\n",
              "      <td>True</td>\n",
              "    </tr>\n",
              "    <tr>\n",
              "      <th>19</th>\n",
              "      <td>&lt;keras.layers.core.Flatten object at 0x7f0cd00...</td>\n",
              "      <td>flatten_2</td>\n",
              "      <td>True</td>\n",
              "    </tr>\n",
              "  </tbody>\n",
              "</table>\n",
              "</div>"
            ],
            "text/plain": [
              "                                           Layer Type  ... Layer Trainable\n",
              "0   <keras.engine.input_layer.InputLayer object at...  ...           False\n",
              "1   <keras.layers.convolutional.Conv2D object at 0...  ...           False\n",
              "2   <keras.layers.convolutional.Conv2D object at 0...  ...           False\n",
              "3   <keras.layers.pooling.MaxPooling2D object at 0...  ...           False\n",
              "4   <keras.layers.convolutional.Conv2D object at 0...  ...           False\n",
              "5   <keras.layers.convolutional.Conv2D object at 0...  ...           False\n",
              "6   <keras.layers.pooling.MaxPooling2D object at 0...  ...           False\n",
              "7   <keras.layers.convolutional.Conv2D object at 0...  ...           False\n",
              "8   <keras.layers.convolutional.Conv2D object at 0...  ...           False\n",
              "9   <keras.layers.convolutional.Conv2D object at 0...  ...           False\n",
              "10  <keras.layers.pooling.MaxPooling2D object at 0...  ...           False\n",
              "11  <keras.layers.convolutional.Conv2D object at 0...  ...            True\n",
              "12  <keras.layers.convolutional.Conv2D object at 0...  ...            True\n",
              "13  <keras.layers.convolutional.Conv2D object at 0...  ...            True\n",
              "14  <keras.layers.pooling.MaxPooling2D object at 0...  ...            True\n",
              "15  <keras.layers.convolutional.Conv2D object at 0...  ...            True\n",
              "16  <keras.layers.convolutional.Conv2D object at 0...  ...            True\n",
              "17  <keras.layers.convolutional.Conv2D object at 0...  ...            True\n",
              "18  <keras.layers.pooling.MaxPooling2D object at 0...  ...            True\n",
              "19  <keras.layers.core.Flatten object at 0x7f0cd00...  ...            True\n",
              "\n",
              "[20 rows x 3 columns]"
            ]
          },
          "metadata": {
            "tags": []
          },
          "execution_count": 10
        }
      ]
    },
    {
      "cell_type": "code",
      "metadata": {
        "ExecuteTime": {
          "start_time": "2019-08-14T09:09:48.064Z"
        },
        "trusted": true,
        "id": "OxBmeO5ga-Dt",
        "colab_type": "code",
        "colab": {}
      },
      "source": [
        "from keras.preprocessing.image import ImageDataGenerator\n",
        "#scaled here. Do data augmentation here for training set\n",
        "train_datagen = ImageDataGenerator(rescale=1./255, zoom_range=0.3, rotation_range=50,\n",
        "                                   width_shift_range=0.2, height_shift_range=0.2, shear_range=0.2, \n",
        "                                   horizontal_flip=True, fill_mode='nearest')\n",
        "#validation data set only do standardization\n",
        "val_datagen = ImageDataGenerator(rescale=1./255)\n",
        "train_generator = train_datagen.flow(x_train, y_train, batch_size=128)\n",
        "val_generator = val_datagen.flow(x_validation, y_validation, batch_size=32)"
      ],
      "execution_count": 0,
      "outputs": []
    },
    {
      "cell_type": "code",
      "metadata": {
        "id": "OYuiBRK5cJjc",
        "colab_type": "code",
        "outputId": "75a852a2-f7d7-480b-a78d-d04a7270fb33",
        "colab": {
          "base_uri": "https://localhost:8080/",
          "height": 103
        }
      },
      "source": [
        "from keras.layers import Conv2D, MaxPooling2D, Flatten, Dense, Dropout, InputLayer\n",
        "from keras import layers\n",
        "from keras.models import Sequential\n",
        "from keras import optimizers\n",
        "\n",
        "model = Sequential()\n",
        "model.add(vgg_model)\n",
        "model.add(Dense(512, activation='relu', input_dim=input_shape))\n",
        "model.add(Dropout(0.3))\n",
        "model.add(Dense(512, activation='relu'))\n",
        "model.add(Dropout(0.3))\n",
        "model.add(Dense(10, activation='softmax'))\n",
        "\n",
        "model.compile(loss='categorical_crossentropy', optimizer=optimizers.RMSprop(lr=2e-5), metrics=['accuracy'])"
      ],
      "execution_count": 16,
      "outputs": [
        {
          "output_type": "stream",
          "text": [
            "W0816 03:10:15.251084 139694647138176 deprecation.py:506] From /usr/local/lib/python3.6/dist-packages/keras/backend/tensorflow_backend.py:3445: calling dropout (from tensorflow.python.ops.nn_ops) with keep_prob is deprecated and will be removed in a future version.\n",
            "Instructions for updating:\n",
            "Please use `rate` instead of `keep_prob`. Rate should be set to `rate = 1 - keep_prob`.\n"
          ],
          "name": "stderr"
        }
      ]
    },
    {
      "cell_type": "code",
      "metadata": {
        "id": "T07X5BezOFLz",
        "colab_type": "code",
        "colab": {
          "base_uri": "https://localhost:8080/",
          "height": 400
        },
        "outputId": "742c4d96-e864-471f-cdf1-969ad3385bbd"
      },
      "source": [
        "history = model.fit_generator(train_generator, epochs=10,\n",
        "                              validation_data=val_generator, \n",
        "                              steps_per_epoch=x_train.__len__()/10, \n",
        "                              validation_steps=x_validation.__len__()/10,\n",
        "                              verbose=1)  \n"
      ],
      "execution_count": 18,
      "outputs": [
        {
          "output_type": "stream",
          "text": [
            "Epoch 1/10\n",
            "4000/4000 [==============================] - 363s 91ms/step - loss: 1.1369 - acc: 0.6046 - val_loss: 0.7215 - val_acc: 0.7495\n",
            "Epoch 2/10\n",
            "4000/4000 [==============================] - 357s 89ms/step - loss: 0.8280 - acc: 0.7132 - val_loss: 0.6332 - val_acc: 0.7865\n",
            "Epoch 3/10\n",
            "4000/4000 [==============================] - 357s 89ms/step - loss: 0.7126 - acc: 0.7527 - val_loss: 0.6334 - val_acc: 0.7910\n",
            "Epoch 4/10\n",
            "4000/4000 [==============================] - 356s 89ms/step - loss: 0.6327 - acc: 0.7797 - val_loss: 0.6260 - val_acc: 0.7915\n",
            "Epoch 5/10\n",
            "4000/4000 [==============================] - 356s 89ms/step - loss: 0.5701 - acc: 0.8015 - val_loss: 0.5962 - val_acc: 0.8046\n",
            "Epoch 6/10\n",
            "4000/4000 [==============================] - 355s 89ms/step - loss: 0.5163 - acc: 0.8207 - val_loss: 0.6615 - val_acc: 0.7973\n",
            "Epoch 7/10\n",
            "4000/4000 [==============================] - 356s 89ms/step - loss: 0.4741 - acc: 0.8353 - val_loss: 0.6254 - val_acc: 0.8106\n",
            "Epoch 8/10\n",
            "4000/4000 [==============================] - 356s 89ms/step - loss: 0.4387 - acc: 0.8479 - val_loss: 0.7053 - val_acc: 0.7959\n",
            "Epoch 9/10\n",
            "4000/4000 [==============================] - 357s 89ms/step - loss: 0.4069 - acc: 0.8591 - val_loss: 0.7053 - val_acc: 0.8054\n",
            "Epoch 10/10\n",
            "4000/4000 [==============================] - 360s 90ms/step - loss: 0.3803 - acc: 0.8687 - val_loss: 0.7107 - val_acc: 0.8005\n"
          ],
          "name": "stdout"
        }
      ]
    },
    {
      "cell_type": "code",
      "metadata": {
        "id": "H2P7srg7KwXm",
        "colab_type": "code",
        "outputId": "890d4a45-5e30-4e3e-bc8c-a5ee2b396846",
        "colab": {
          "base_uri": "https://localhost:8080/",
          "height": 34
        }
      },
      "source": [
        "import numpy as np\n",
        "ypred=model.predict(x_test)\n",
        "pred_labels=[x.argmax() for x in ypred[::1,:]]\n",
        "test_labels=[x.argmax() for x in y_test[::1,:]]\n",
        "print(\"Test Acc is {}\".format((np.array(test_labels)==np.array(pred_labels)).mean()))"
      ],
      "execution_count": 19,
      "outputs": [
        {
          "output_type": "stream",
          "text": [
            "Test Acc is 0.5494\n"
          ],
          "name": "stdout"
        }
      ]
    },
    {
      "cell_type": "code",
      "metadata": {
        "id": "WjJD3PBnkIiN",
        "colab_type": "code",
        "outputId": "5988f9e8-fc22-4634-e177-88d123bcb78b",
        "colab": {
          "base_uri": "https://localhost:8080/",
          "height": 68
        }
      },
      "source": [
        "scores = model.evaluate(x_test, y_test, verbose=1)\n",
        "print('Test loss:', scores[0])\n",
        "print('Test accuracy:', scores[1])"
      ],
      "execution_count": 20,
      "outputs": [
        {
          "output_type": "stream",
          "text": [
            "10000/10000 [==============================] - 5s 534us/step\n",
            "Test loss: 7.106272584533691\n",
            "Test accuracy: 0.5494\n"
          ],
          "name": "stdout"
        }
      ]
    },
    {
      "cell_type": "code",
      "metadata": {
        "id": "ckDAW3zjdgPP",
        "colab_type": "code",
        "colab": {}
      },
      "source": [
        "history.history.keys()\n",
        "type(history.history)\n",
        "history.history['acc']\n",
        "import pandas as pd\n",
        "hist_df = pd.DataFrame(history.history) \n",
        "hist_df.head()\n",
        "model.save('tl_vgg16.h5')\n",
        "hist_df.to_csv('tl_vgg16.csv')"
      ],
      "execution_count": 0,
      "outputs": []
    },
    {
      "cell_type": "code",
      "metadata": {
        "trusted": true,
        "id": "ZoTlgtQCa-D1",
        "colab_type": "code",
        "outputId": "437c26a6-393a-467e-db17-7d34d9056c3b",
        "colab": {
          "base_uri": "https://localhost:8080/",
          "height": 404
        }
      },
      "source": [
        "import matplotlib.pylab as plt\n",
        "f=plt.figure(figsize=[12,6])\n",
        "plt.subplot(1,2,1)\n",
        "plt.plot(history.epoch, history.history['acc'],'-o', label='Train Acc')\n",
        "plt.plot(history.epoch, history.history['val_acc'],'-o',label='Validation Acc')  \n",
        "plt.title(\"Accuracy\")\n",
        "plt.xlabel(\"Epochs\")\n",
        "plt.grid()\n",
        "plt.legend(loc='best')\n",
        "plt.subplot(1,2,2)\n",
        "plt.plot(history.epoch, history.history['loss'],':o', label='Train Loss')\n",
        "plt.plot(history.epoch, history.history['val_loss'],':o',label='Validation Loss')  \n",
        "plt.title(\"Loss\")\n",
        "plt.xlabel(\"Epochs\")\n",
        "plt.grid()\n",
        "plt.legend(loc='best')\n",
        "f.savefig('tl_vgg16.png')"
      ],
      "execution_count": 23,
      "outputs": [
        {
          "output_type": "display_data",
          "data": {
            "image/png": "[encoded data removed]",
            "text/plain": [
              "<Figure size 864x432 with 2 Axes>"
            ]
          },
          "metadata": {
            "tags": []
          }
        }
      ]
    },
    {
      "cell_type": "code",
      "metadata": {
        "id": "IzgpCMV5jNRY",
        "colab_type": "code",
        "colab": {
          "base_uri": "https://localhost:8080/",
          "height": 442
        },
        "outputId": "49e751cd-ea1d-4330-cc90-8c66fa483217"
      },
      "source": [
        "from google.colab import files\n",
        "\n",
        "files.download('tl_vgg16.png')\n",
        "files.download('tl_vgg16.csv')\n",
        "files.download('tl_vgg16.h5')"
      ],
      "execution_count": 24,
      "outputs": [
        {
          "output_type": "stream",
          "text": [
            "----------------------------------------\n",
            "Exception happened during processing of request from ('::ffff:127.0.0.1', 58552, 0, 0)\n",
            "Traceback (most recent call last):\n",
            "  File \"/usr/lib/python3.6/socketserver.py\", line 320, in _handle_request_noblock\n",
            "    self.process_request(request, client_address)\n",
            "  File \"/usr/lib/python3.6/socketserver.py\", line 351, in process_request\n",
            "    self.finish_request(request, client_address)\n",
            "  File \"/usr/lib/python3.6/socketserver.py\", line 364, in finish_request\n",
            "    self.RequestHandlerClass(request, client_address, self)\n",
            "  File \"/usr/lib/python3.6/socketserver.py\", line 724, in __init__\n",
            "    self.handle()\n",
            "  File \"/usr/lib/python3.6/http/server.py\", line 418, in handle\n",
            "    self.handle_one_request()\n",
            "  File \"/usr/lib/python3.6/http/server.py\", line 406, in handle_one_request\n",
            "    method()\n",
            "  File \"/usr/lib/python3.6/http/server.py\", line 639, in do_GET\n",
            "    self.copyfile(f, self.wfile)\n",
            "  File \"/usr/lib/python3.6/http/server.py\", line 800, in copyfile\n",
            "    shutil.copyfileobj(source, outputfile)\n",
            "  File \"/usr/lib/python3.6/shutil.py\", line 82, in copyfileobj\n",
            "    fdst.write(buf)\n",
            "  File \"/usr/lib/python3.6/socketserver.py\", line 803, in write\n",
            "    self._sock.sendall(b)\n",
            "ConnectionResetError: [Errno 104] Connection reset by peer\n",
            "----------------------------------------\n"
          ],
          "name": "stderr"
        }
      ]
    }
  ]
}